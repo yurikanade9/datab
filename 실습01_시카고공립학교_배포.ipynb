{
  "cells": [
    {
      "cell_type": "markdown",
      "metadata": {
        "id": "view-in-github",
        "colab_type": "text"
      },
      "source": [
        "<a href=\"https://colab.research.google.com/github/yurikanade9/datab/blob/main/%EC%8B%A4%EC%8A%B501_%EC%8B%9C%EC%B9%B4%EA%B3%A0%EA%B3%B5%EB%A6%BD%ED%95%99%EA%B5%90_%EB%B0%B0%ED%8F%AC.ipynb\" target=\"_parent\"><img src=\"https://colab.research.google.com/assets/colab-badge.svg\" alt=\"Open In Colab\"/></a>"
      ]
    },
    {
      "cell_type": "markdown",
      "metadata": {
        "id": "iaa44stf6sfi"
      },
      "source": [
        "\n",
        "# 실제 데이터 세트를 사용하여 SQL과 Python으로 작업하기  \n",
        "\n",
        "소요 예상 시간: 30분  \n",
        "\n",
        "## 학습 목표\n",
        "\n",
        "이 실습을 완료한 후, 다음을 수행할 수 있다:  \n",
        "\n",
        "* 시카고 공립학교 수준 성과 데이터 세트를 이해하기  \n",
        "* SQLite 데이터베이스에 데이터 세트를 저장하기  \n",
        "* 테이블과 열에 대한 메타데이터를 검색하고 혼합 대소문자 열에서 데이터를 쿼리하기  \n",
        "* 데이터베이스 내장 함수를 활용한 SQL 실습 문제 해결하기  \n"
      ]
    },
    {
      "cell_type": "markdown",
      "metadata": {
        "id": "9pI9UIgu6sfk"
      },
      "source": [
        "## Chicago Public Schools - Progress Report Cards (2011-2012)\n",
        "\n",
        "시카고 시에서는 2011-2012 학년도 학교 보고서 카드를 생성하는 데 사용된 모든 학교 수준 성과 데이터를 보여주는 데이터 세트를 공개하였다. 해당 데이터 세트는 시카고 데이터 포털에서 확인할 수 있다: [https://data.cityofchicago.org/Education/Chicago-Public-Schools-Progress-Report-Cards-2011-/9xs2-f89t](https://data.cityofchicago.org/Education/Chicago-Public-Schools-Progress-Report-Cards-2011-/9xs2-f89t?utm_medium=Exinfluencer&utm_source=Exinfluencer&utm_content=000026UJ&utm_term=10006555&utm_id=NA-SkillsNetwork-Channel-SkillsNetworkCoursesIBMDeveloperSkillsNetworkDB0201ENSkillsNetwork20127838-2021-01-01&cm_mmc=Email_Newsletter-\\_-Developer_Ed%2BTech-\\_-WW_WW-\\_-SkillsNetwork-Courses-IBMDeveloperSkillsNetwork-DB0201EN-SkillsNetwork-20127838&cm_mmca1=000026UJ&cm_mmca2=10006555&cm_mmca3=M12345678&cvosrc=email.Newsletter.M12345678&cvo_campaign=000026UJ)\n",
        "\n",
        "이 데이터 세트에는 많은 수의 지표가 포함되어 있다. 데이터베이스에 포함된 지표 유형에 익숙해지는 것부터 시작하라: [https://data.cityofchicago.org/api/assets/AAD41A13-BE8A-4E67-B1F5-86E711E09D5F?download=true](https://data.cityofchicago.org/api/assets/AAD41A13-BE8A-4E67-B1F5-86E711E09D5F?utm_medium=Exinfluencer&utm_source=Exinfluencer&utm_content=000026UJ&utm_term=10006555&utm_id=NA-SkillsNetwork-Channel-SkillsNetworkCoursesIBMDeveloperSkillsNetworkDB0201ENSkillsNetwork20127838-2021-01-01&download=true&cm_mmc=Email_Newsletter-\\_-Developer_Ed%2BTech-\\_-WW_WW-\\_-SkillsNetwork-Courses-IBMDeveloperSkillsNetwork-DB0201EN-SkillsNetwork-20127838&cm_mmca1=000026UJ&cm_mmca2=10006555&cm_mmca3=M12345678&cvosrc=email.Newsletter.M12345678&cvo_campaign=000026UJ)\n",
        "\n",
        "**참고**:\n",
        "\n",
        "데이터 세트를 시카고 포털에서 직접 다운로드하지 말고, 더 데이터베이스 친화적인 static copy 를 이 <a href=\"https://cf-courses-data.s3.us.cloud-object-storage.appdomain.cloud/IBMDeveloperSkillsNetwork-DB0201EN-SkillsNetwork/labs/FinalModule_Coursera_V5/data/ChicagoPublicSchools.csv?utm_medium=Exinfluencer&utm_source=Exinfluencer&utm_content=000026UJ&utm_term=10006555&utm_id=NA-SkillsNetwork-Channel-SkillsNetworkCoursesIBMDeveloperSkillsNetworkDB0201ENSkillsNetwork20127838-2021-01-01\">링크</a>에서 다운로드하라.\n",
        "\n",
        "이제 데이터 일부 내용을 검토하라.\n",
        "\n"
      ]
    },
    {
      "cell_type": "markdown",
      "metadata": {
        "id": "f3zaYkq16sfl"
      },
      "source": [
        "### 데이터베이스에 연결하기\n",
        "\n",
        "이제 ipython-sql 확장을 로드하고 데이터베이스와 연결을 설정하자\n",
        "\n",
        "##### SQLite를 사용하여 magic sql에 연결하는 구문은 다음과 같다:\n",
        "\n",
        "  **%sql sqlite://DatabaseName**   \n",
        "\n",
        "여기서 DatabaseName은 **.db** 파일이 된다"
      ]
    },
    {
      "cell_type": "code",
      "execution_count": 8,
      "metadata": {
        "tags": [],
        "id": "oV0qIyYr6sfl"
      },
      "outputs": [],
      "source": [
        "import csv, sqlite3\n",
        "\n",
        "con = sqlite3.connect(\"RealWorldData.db\")\n",
        "cur = con.cursor()"
      ]
    },
    {
      "cell_type": "code",
      "execution_count": 11,
      "metadata": {
        "tags": [],
        "colab": {
          "base_uri": "https://localhost:8080/"
        },
        "id": "DDRB2asw6sfm",
        "outputId": "686f28b6-520e-48b8-f799-2dee4b990527"
      },
      "outputs": [
        {
          "output_type": "stream",
          "name": "stdout",
          "text": [
            "\u001b[?25l     \u001b[90m━━━━━━━━━━━━━━━━━━━━━━━━━━━━━━━━━━━━━━━━\u001b[0m \u001b[32m0.0/5.2 MB\u001b[0m \u001b[31m?\u001b[0m eta \u001b[36m-:--:--\u001b[0m\r\u001b[2K     \u001b[91m━━\u001b[0m\u001b[90m╺\u001b[0m\u001b[90m━━━━━━━━━━━━━━━━━━━━━━━━━━━━━━━━━━━━━\u001b[0m \u001b[32m0.3/5.2 MB\u001b[0m \u001b[31m9.4 MB/s\u001b[0m eta \u001b[36m0:00:01\u001b[0m\r\u001b[2K     \u001b[91m━━━━━━━━━━━━━━━━━━━━\u001b[0m\u001b[90m╺\u001b[0m\u001b[90m━━━━━━━━━━━━━━━━━━━\u001b[0m \u001b[32m2.6/5.2 MB\u001b[0m \u001b[31m37.3 MB/s\u001b[0m eta \u001b[36m0:00:01\u001b[0m\r\u001b[2K     \u001b[91m━━━━━━━━━━━━━━━━━━━━━━━━━━━━━━━━━━━━━━━\u001b[0m\u001b[91m╸\u001b[0m \u001b[32m5.2/5.2 MB\u001b[0m \u001b[31m59.5 MB/s\u001b[0m eta \u001b[36m0:00:01\u001b[0m\r\u001b[2K     \u001b[90m━━━━━━━━━━━━━━━━━━━━━━━━━━━━━━━━━━━━━━━━\u001b[0m \u001b[32m5.2/5.2 MB\u001b[0m \u001b[31m43.9 MB/s\u001b[0m eta \u001b[36m0:00:00\u001b[0m\n",
            "\u001b[?25h  Installing build dependencies ... \u001b[?25l\u001b[?25hdone\n",
            "  Getting requirements to build wheel ... \u001b[?25l\u001b[?25hdone\n",
            "  Preparing metadata (pyproject.toml) ... \u001b[?25l\u001b[?25hdone\n",
            "  \u001b[1;31merror\u001b[0m: \u001b[1msubprocess-exited-with-error\u001b[0m\n",
            "  \n",
            "  \u001b[31m×\u001b[0m \u001b[32mBuilding wheel for pandas \u001b[0m\u001b[1;32m(\u001b[0m\u001b[32mpyproject.toml\u001b[0m\u001b[1;32m)\u001b[0m did not run successfully.\n",
            "  \u001b[31m│\u001b[0m exit code: \u001b[1;36m1\u001b[0m\n",
            "  \u001b[31m╰─>\u001b[0m See above for output.\n",
            "  \n",
            "  \u001b[1;35mnote\u001b[0m: This error originates from a subprocess, and is likely not a problem with pip.\n",
            "  Building wheel for pandas (pyproject.toml) ... \u001b[?25l\u001b[?25herror\n",
            "\u001b[31m  ERROR: Failed building wheel for pandas\u001b[0m\u001b[31m\n",
            "\u001b[0m\u001b[31mERROR: ERROR: Failed to build installable wheels for some pyproject.toml based projects (pandas)\u001b[0m\u001b[31m\n",
            "\u001b[0m"
          ]
        }
      ],
      "source": [
        "\n",
        "!pip install -q pandas==1.1.5"
      ]
    },
    {
      "cell_type": "code",
      "execution_count": 3,
      "metadata": {
        "tags": [],
        "id": "5e-sw5Rj6sfm"
      },
      "outputs": [],
      "source": [
        "%load_ext sql"
      ]
    },
    {
      "cell_type": "code",
      "execution_count": 4,
      "metadata": {
        "tags": [],
        "id": "6FUXC9Zl6sfm"
      },
      "outputs": [],
      "source": [
        "%sql sqlite:///RealWorldData.db"
      ]
    },
    {
      "cell_type": "markdown",
      "metadata": {
        "id": "bT-fNxkE6sfm"
      },
      "source": [
        "### 데이터 세트를 테이블에 저장하기\n",
        "\n",
        "##### 분석할 데이터 세트는 대부분 .CSV(쉼표로 구분된 값) 파일 형식으로, 인터넷에서 제공되는 경우가 많다  \n",
        "##### 데이터를 SQL로 분석하려면 먼저 데이터베이스에 저장해야 한다  \n",
        "\n",
        "##### 먼저 주어진 URL에서 CSV 파일을 읽어 pandas 데이터프레임으로 변환할 것이다  \n",
        "\n",
        "##### 이후 df.to_sql() 함수를 사용하여 각 CSV 파일을 SQLite의 테이블로 변환하고 해당 데이터를 로드할 것이다  \n"
      ]
    },
    {
      "cell_type": "code",
      "execution_count": 9,
      "metadata": {
        "tags": [],
        "colab": {
          "base_uri": "https://localhost:8080/"
        },
        "id": "H9J8E7A16sfn",
        "outputId": "2ec3b94b-cc3f-4ac0-a752-4b483bf45bc2"
      },
      "outputs": [
        {
          "output_type": "execute_result",
          "data": {
            "text/plain": [
              "566"
            ]
          },
          "metadata": {},
          "execution_count": 9
        }
      ],
      "source": [
        "import pandas as pd\n",
        "df = pd.read_csv(\"https://cf-courses-data.s3.us.cloud-object-storage.appdomain.cloud/IBMDeveloperSkillsNetwork-DB0201EN-SkillsNetwork/labs/FinalModule_Coursera_V5/data/ChicagoPublicSchools.csv\")\n",
        "df.to_sql(\"CHICAGO_PUBLIC_SCHOOLS_DATA\", con, if_exists='replace', index=False, method=\"multi\")\n"
      ]
    },
    {
      "cell_type": "code",
      "execution_count": null,
      "metadata": {
        "tags": [],
        "id": "GhQW02VM6sfn"
      },
      "outputs": [],
      "source": [
        "df.head()"
      ]
    },
    {
      "cell_type": "markdown",
      "metadata": {
        "id": "q7VUccV36sfn"
      },
      "source": [
        "### 데이터베이스 시스템 카탈로그를 쿼리하여 테이블 메타데이터 가져오기\n",
        "\n",
        "##### 스키마 내 모든 테이블 목록을 조회하고 SCHOOLS 테이블이 생성되었는지 확인함으로써 테이블 생성이 성공적으로 이루어졌는지 확인할 수 있다."
      ]
    },
    {
      "cell_type": "code",
      "source": [
        "%config SqlMagic.style = '_DEPRECATED_DEFAULT'"
      ],
      "metadata": {
        "id": "g4eTEFgCFHA4"
      },
      "execution_count": 7,
      "outputs": []
    },
    {
      "cell_type": "code",
      "execution_count": null,
      "metadata": {
        "tags": [],
        "colab": {
          "base_uri": "https://localhost:8080/",
          "height": 98
        },
        "id": "07iGloDQ6sfn",
        "outputId": "36f5a1a6-3b00-446c-d371-c1a672b0a1aa"
      },
      "outputs": [
        {
          "output_type": "stream",
          "name": "stdout",
          "text": [
            " * sqlite:///RealWorldData.db\n",
            "Done.\n"
          ]
        },
        {
          "output_type": "execute_result",
          "data": {
            "text/plain": [
              "[('CHICAGO_PUBLIC_SCHOOLS_DATA',)]"
            ],
            "text/html": [
              "<table>\n",
              "    <thead>\n",
              "        <tr>\n",
              "            <th>name</th>\n",
              "        </tr>\n",
              "    </thead>\n",
              "    <tbody>\n",
              "        <tr>\n",
              "            <td>CHICAGO_PUBLIC_SCHOOLS_DATA</td>\n",
              "        </tr>\n",
              "    </tbody>\n",
              "</table>"
            ]
          },
          "metadata": {},
          "execution_count": 22
        }
      ],
      "source": [
        "# type in your query to retrieve list of all tables in the database\n",
        "%sql SELECT name FROM sqlite_master WHERE type='table'"
      ]
    },
    {
      "cell_type": "markdown",
      "metadata": {
        "id": "hsrOFfSV6sfo"
      },
      "source": [
        "### 데이터베이스 시스템 카탈로그를 쿼리하여 열 메타데이터 가져오기\n",
        "\n",
        "##### SCHOOLS 테이블에는 많은 열이 포함되어 있다. 이 테이블에는 몇 개의 열이 있을까?\n"
      ]
    },
    {
      "cell_type": "code",
      "execution_count": 8,
      "metadata": {
        "tags": [],
        "colab": {
          "base_uri": "https://localhost:8080/",
          "height": 97
        },
        "id": "76jOPjq26sfo",
        "outputId": "056fde8b-954d-45e6-9aab-d24e99f93484"
      },
      "outputs": [
        {
          "output_type": "stream",
          "name": "stdout",
          "text": [
            " * sqlite:///RealWorldData.db\n",
            "Done.\n"
          ]
        },
        {
          "output_type": "execute_result",
          "data": {
            "text/plain": [
              "[(78,)]"
            ],
            "text/html": [
              "<table>\n",
              "    <thead>\n",
              "        <tr>\n",
              "            <th>COUNT(name)</th>\n",
              "        </tr>\n",
              "    </thead>\n",
              "    <tbody>\n",
              "        <tr>\n",
              "            <td>78</td>\n",
              "        </tr>\n",
              "    </tbody>\n",
              "</table>"
            ]
          },
          "metadata": {},
          "execution_count": 8
        }
      ],
      "source": [
        "# type in your query to retrieve the number of columns in the SCHOOLS table\n",
        "%sql SELECT COUNT(name) FROM PRAGMA_TABLE_INFO('CHICAGO_PUBLIC_SCHOOLS_DATA');"
      ]
    },
    {
      "cell_type": "markdown",
      "metadata": {
        "id": "IX7CuxZ76sfo"
      },
      "source": [
        "이제 SCHOOLS 테이블의 열 목록과 해당 열 유형(datatype) 및 길이를 조회하자."
      ]
    },
    {
      "cell_type": "code",
      "execution_count": 9,
      "metadata": {
        "tags": [],
        "colab": {
          "base_uri": "https://localhost:8080/",
          "height": 1000
        },
        "id": "zv3puAmc6sfo",
        "outputId": "82cbd241-a07f-4dd3-c84f-2d860dc94f6d"
      },
      "outputs": [
        {
          "output_type": "stream",
          "name": "stdout",
          "text": [
            " * sqlite:///RealWorldData.db\n",
            "Done.\n"
          ]
        },
        {
          "output_type": "execute_result",
          "data": {
            "text/plain": [
              "[('School_ID', 'INTEGER', 7),\n",
              " ('NAME_OF_SCHOOL', 'TEXT', 4),\n",
              " ('Elementary, Middle, or High School', 'TEXT', 4),\n",
              " ('Street_Address', 'TEXT', 4),\n",
              " ('City', 'TEXT', 4),\n",
              " ('State', 'TEXT', 4),\n",
              " ('ZIP_Code', 'INTEGER', 7),\n",
              " ('Phone_Number', 'TEXT', 4),\n",
              " ('Link', 'TEXT', 4),\n",
              " ('Network_Manager', 'TEXT', 4),\n",
              " ('Collaborative_Name', 'TEXT', 4),\n",
              " ('Adequate_Yearly_Progress_Made_', 'TEXT', 4),\n",
              " ('Track_Schedule', 'TEXT', 4),\n",
              " ('CPS_Performance_Policy_Status', 'TEXT', 4),\n",
              " ('CPS_Performance_Policy_Level', 'TEXT', 4),\n",
              " ('HEALTHY_SCHOOL_CERTIFIED', 'TEXT', 4),\n",
              " ('Safety_Icon', 'TEXT', 4),\n",
              " ('SAFETY_SCORE', 'REAL', 4),\n",
              " ('Family_Involvement_Icon', 'TEXT', 4),\n",
              " ('Family_Involvement_Score', 'TEXT', 4),\n",
              " ('Environment_Icon', 'TEXT', 4),\n",
              " ('Environment_Score', 'REAL', 4),\n",
              " ('Instruction_Icon', 'TEXT', 4),\n",
              " ('Instruction_Score', 'REAL', 4),\n",
              " ('Leaders_Icon', 'TEXT', 4),\n",
              " ('Leaders_Score', 'TEXT', 4),\n",
              " ('Teachers_Icon', 'TEXT', 4),\n",
              " ('Teachers_Score', 'TEXT', 4),\n",
              " ('Parent_Engagement_Icon', 'TEXT', 4),\n",
              " ('Parent_Engagement_Score', 'TEXT', 4),\n",
              " ('Parent_Environment_Icon', 'TEXT', 4),\n",
              " ('Parent_Environment_Score', 'TEXT', 4),\n",
              " ('AVERAGE_STUDENT_ATTENDANCE', 'TEXT', 4),\n",
              " ('Rate_of_Misconducts__per_100_students_', 'REAL', 4),\n",
              " ('Average_Teacher_Attendance', 'TEXT', 4),\n",
              " ('Individualized_Education_Program_Compliance_Rate', 'TEXT', 4),\n",
              " ('Pk_2_Literacy__', 'TEXT', 4),\n",
              " ('Pk_2_Math__', 'TEXT', 4),\n",
              " ('Gr3_5_Grade_Level_Math__', 'TEXT', 4),\n",
              " ('Gr3_5_Grade_Level_Read__', 'TEXT', 4),\n",
              " ('Gr3_5_Keep_Pace_Read__', 'TEXT', 4),\n",
              " ('Gr3_5_Keep_Pace_Math__', 'TEXT', 4),\n",
              " ('Gr6_8_Grade_Level_Math__', 'TEXT', 4),\n",
              " ('Gr6_8_Grade_Level_Read__', 'TEXT', 4),\n",
              " ('Gr6_8_Keep_Pace_Math_', 'TEXT', 4),\n",
              " ('Gr6_8_Keep_Pace_Read__', 'TEXT', 4),\n",
              " ('Gr_8_Explore_Math__', 'TEXT', 4),\n",
              " ('Gr_8_Explore_Read__', 'TEXT', 4),\n",
              " ('ISAT_Exceeding_Math__', 'REAL', 4),\n",
              " ('ISAT_Exceeding_Reading__', 'REAL', 4),\n",
              " ('ISAT_Value_Add_Math', 'REAL', 4),\n",
              " ('ISAT_Value_Add_Read', 'REAL', 4),\n",
              " ('ISAT_Value_Add_Color_Math', 'TEXT', 4),\n",
              " ('ISAT_Value_Add_Color_Read', 'TEXT', 4),\n",
              " ('Students_Taking__Algebra__', 'TEXT', 4),\n",
              " ('Students_Passing__Algebra__', 'TEXT', 4),\n",
              " ('9th Grade EXPLORE (2009)', 'TEXT', 4),\n",
              " ('9th Grade EXPLORE (2010)', 'TEXT', 4),\n",
              " ('10th Grade PLAN (2009)', 'TEXT', 4),\n",
              " ('10th Grade PLAN (2010)', 'TEXT', 4),\n",
              " ('Net_Change_EXPLORE_and_PLAN', 'TEXT', 4),\n",
              " ('11th Grade Average ACT (2011)', 'TEXT', 4),\n",
              " ('Net_Change_PLAN_and_ACT', 'TEXT', 4),\n",
              " ('College_Eligibility__', 'TEXT', 4),\n",
              " ('Graduation_Rate__', 'TEXT', 4),\n",
              " ('College_Enrollment_Rate__', 'TEXT', 4),\n",
              " ('COLLEGE_ENROLLMENT', 'INTEGER', 7),\n",
              " ('General_Services_Route', 'INTEGER', 7),\n",
              " ('Freshman_on_Track_Rate__', 'TEXT', 4),\n",
              " ('X_COORDINATE', 'REAL', 4),\n",
              " ('Y_COORDINATE', 'REAL', 4),\n",
              " ('Latitude', 'REAL', 4),\n",
              " ('Longitude', 'REAL', 4),\n",
              " ('COMMUNITY_AREA_NUMBER', 'INTEGER', 7),\n",
              " ('COMMUNITY_AREA_NAME', 'TEXT', 4),\n",
              " ('Ward', 'INTEGER', 7),\n",
              " ('Police_District', 'INTEGER', 7),\n",
              " ('Location', 'TEXT', 4)]"
            ],
            "text/html": [
              "<table>\n",
              "    <thead>\n",
              "        <tr>\n",
              "            <th>name</th>\n",
              "            <th>type</th>\n",
              "            <th>length(type)</th>\n",
              "        </tr>\n",
              "    </thead>\n",
              "    <tbody>\n",
              "        <tr>\n",
              "            <td>School_ID</td>\n",
              "            <td>INTEGER</td>\n",
              "            <td>7</td>\n",
              "        </tr>\n",
              "        <tr>\n",
              "            <td>NAME_OF_SCHOOL</td>\n",
              "            <td>TEXT</td>\n",
              "            <td>4</td>\n",
              "        </tr>\n",
              "        <tr>\n",
              "            <td>Elementary, Middle, or High School</td>\n",
              "            <td>TEXT</td>\n",
              "            <td>4</td>\n",
              "        </tr>\n",
              "        <tr>\n",
              "            <td>Street_Address</td>\n",
              "            <td>TEXT</td>\n",
              "            <td>4</td>\n",
              "        </tr>\n",
              "        <tr>\n",
              "            <td>City</td>\n",
              "            <td>TEXT</td>\n",
              "            <td>4</td>\n",
              "        </tr>\n",
              "        <tr>\n",
              "            <td>State</td>\n",
              "            <td>TEXT</td>\n",
              "            <td>4</td>\n",
              "        </tr>\n",
              "        <tr>\n",
              "            <td>ZIP_Code</td>\n",
              "            <td>INTEGER</td>\n",
              "            <td>7</td>\n",
              "        </tr>\n",
              "        <tr>\n",
              "            <td>Phone_Number</td>\n",
              "            <td>TEXT</td>\n",
              "            <td>4</td>\n",
              "        </tr>\n",
              "        <tr>\n",
              "            <td>Link</td>\n",
              "            <td>TEXT</td>\n",
              "            <td>4</td>\n",
              "        </tr>\n",
              "        <tr>\n",
              "            <td>Network_Manager</td>\n",
              "            <td>TEXT</td>\n",
              "            <td>4</td>\n",
              "        </tr>\n",
              "        <tr>\n",
              "            <td>Collaborative_Name</td>\n",
              "            <td>TEXT</td>\n",
              "            <td>4</td>\n",
              "        </tr>\n",
              "        <tr>\n",
              "            <td>Adequate_Yearly_Progress_Made_</td>\n",
              "            <td>TEXT</td>\n",
              "            <td>4</td>\n",
              "        </tr>\n",
              "        <tr>\n",
              "            <td>Track_Schedule</td>\n",
              "            <td>TEXT</td>\n",
              "            <td>4</td>\n",
              "        </tr>\n",
              "        <tr>\n",
              "            <td>CPS_Performance_Policy_Status</td>\n",
              "            <td>TEXT</td>\n",
              "            <td>4</td>\n",
              "        </tr>\n",
              "        <tr>\n",
              "            <td>CPS_Performance_Policy_Level</td>\n",
              "            <td>TEXT</td>\n",
              "            <td>4</td>\n",
              "        </tr>\n",
              "        <tr>\n",
              "            <td>HEALTHY_SCHOOL_CERTIFIED</td>\n",
              "            <td>TEXT</td>\n",
              "            <td>4</td>\n",
              "        </tr>\n",
              "        <tr>\n",
              "            <td>Safety_Icon</td>\n",
              "            <td>TEXT</td>\n",
              "            <td>4</td>\n",
              "        </tr>\n",
              "        <tr>\n",
              "            <td>SAFETY_SCORE</td>\n",
              "            <td>REAL</td>\n",
              "            <td>4</td>\n",
              "        </tr>\n",
              "        <tr>\n",
              "            <td>Family_Involvement_Icon</td>\n",
              "            <td>TEXT</td>\n",
              "            <td>4</td>\n",
              "        </tr>\n",
              "        <tr>\n",
              "            <td>Family_Involvement_Score</td>\n",
              "            <td>TEXT</td>\n",
              "            <td>4</td>\n",
              "        </tr>\n",
              "        <tr>\n",
              "            <td>Environment_Icon</td>\n",
              "            <td>TEXT</td>\n",
              "            <td>4</td>\n",
              "        </tr>\n",
              "        <tr>\n",
              "            <td>Environment_Score</td>\n",
              "            <td>REAL</td>\n",
              "            <td>4</td>\n",
              "        </tr>\n",
              "        <tr>\n",
              "            <td>Instruction_Icon</td>\n",
              "            <td>TEXT</td>\n",
              "            <td>4</td>\n",
              "        </tr>\n",
              "        <tr>\n",
              "            <td>Instruction_Score</td>\n",
              "            <td>REAL</td>\n",
              "            <td>4</td>\n",
              "        </tr>\n",
              "        <tr>\n",
              "            <td>Leaders_Icon</td>\n",
              "            <td>TEXT</td>\n",
              "            <td>4</td>\n",
              "        </tr>\n",
              "        <tr>\n",
              "            <td>Leaders_Score</td>\n",
              "            <td>TEXT</td>\n",
              "            <td>4</td>\n",
              "        </tr>\n",
              "        <tr>\n",
              "            <td>Teachers_Icon</td>\n",
              "            <td>TEXT</td>\n",
              "            <td>4</td>\n",
              "        </tr>\n",
              "        <tr>\n",
              "            <td>Teachers_Score</td>\n",
              "            <td>TEXT</td>\n",
              "            <td>4</td>\n",
              "        </tr>\n",
              "        <tr>\n",
              "            <td>Parent_Engagement_Icon</td>\n",
              "            <td>TEXT</td>\n",
              "            <td>4</td>\n",
              "        </tr>\n",
              "        <tr>\n",
              "            <td>Parent_Engagement_Score</td>\n",
              "            <td>TEXT</td>\n",
              "            <td>4</td>\n",
              "        </tr>\n",
              "        <tr>\n",
              "            <td>Parent_Environment_Icon</td>\n",
              "            <td>TEXT</td>\n",
              "            <td>4</td>\n",
              "        </tr>\n",
              "        <tr>\n",
              "            <td>Parent_Environment_Score</td>\n",
              "            <td>TEXT</td>\n",
              "            <td>4</td>\n",
              "        </tr>\n",
              "        <tr>\n",
              "            <td>AVERAGE_STUDENT_ATTENDANCE</td>\n",
              "            <td>TEXT</td>\n",
              "            <td>4</td>\n",
              "        </tr>\n",
              "        <tr>\n",
              "            <td>Rate_of_Misconducts__per_100_students_</td>\n",
              "            <td>REAL</td>\n",
              "            <td>4</td>\n",
              "        </tr>\n",
              "        <tr>\n",
              "            <td>Average_Teacher_Attendance</td>\n",
              "            <td>TEXT</td>\n",
              "            <td>4</td>\n",
              "        </tr>\n",
              "        <tr>\n",
              "            <td>Individualized_Education_Program_Compliance_Rate</td>\n",
              "            <td>TEXT</td>\n",
              "            <td>4</td>\n",
              "        </tr>\n",
              "        <tr>\n",
              "            <td>Pk_2_Literacy__</td>\n",
              "            <td>TEXT</td>\n",
              "            <td>4</td>\n",
              "        </tr>\n",
              "        <tr>\n",
              "            <td>Pk_2_Math__</td>\n",
              "            <td>TEXT</td>\n",
              "            <td>4</td>\n",
              "        </tr>\n",
              "        <tr>\n",
              "            <td>Gr3_5_Grade_Level_Math__</td>\n",
              "            <td>TEXT</td>\n",
              "            <td>4</td>\n",
              "        </tr>\n",
              "        <tr>\n",
              "            <td>Gr3_5_Grade_Level_Read__</td>\n",
              "            <td>TEXT</td>\n",
              "            <td>4</td>\n",
              "        </tr>\n",
              "        <tr>\n",
              "            <td>Gr3_5_Keep_Pace_Read__</td>\n",
              "            <td>TEXT</td>\n",
              "            <td>4</td>\n",
              "        </tr>\n",
              "        <tr>\n",
              "            <td>Gr3_5_Keep_Pace_Math__</td>\n",
              "            <td>TEXT</td>\n",
              "            <td>4</td>\n",
              "        </tr>\n",
              "        <tr>\n",
              "            <td>Gr6_8_Grade_Level_Math__</td>\n",
              "            <td>TEXT</td>\n",
              "            <td>4</td>\n",
              "        </tr>\n",
              "        <tr>\n",
              "            <td>Gr6_8_Grade_Level_Read__</td>\n",
              "            <td>TEXT</td>\n",
              "            <td>4</td>\n",
              "        </tr>\n",
              "        <tr>\n",
              "            <td>Gr6_8_Keep_Pace_Math_</td>\n",
              "            <td>TEXT</td>\n",
              "            <td>4</td>\n",
              "        </tr>\n",
              "        <tr>\n",
              "            <td>Gr6_8_Keep_Pace_Read__</td>\n",
              "            <td>TEXT</td>\n",
              "            <td>4</td>\n",
              "        </tr>\n",
              "        <tr>\n",
              "            <td>Gr_8_Explore_Math__</td>\n",
              "            <td>TEXT</td>\n",
              "            <td>4</td>\n",
              "        </tr>\n",
              "        <tr>\n",
              "            <td>Gr_8_Explore_Read__</td>\n",
              "            <td>TEXT</td>\n",
              "            <td>4</td>\n",
              "        </tr>\n",
              "        <tr>\n",
              "            <td>ISAT_Exceeding_Math__</td>\n",
              "            <td>REAL</td>\n",
              "            <td>4</td>\n",
              "        </tr>\n",
              "        <tr>\n",
              "            <td>ISAT_Exceeding_Reading__</td>\n",
              "            <td>REAL</td>\n",
              "            <td>4</td>\n",
              "        </tr>\n",
              "        <tr>\n",
              "            <td>ISAT_Value_Add_Math</td>\n",
              "            <td>REAL</td>\n",
              "            <td>4</td>\n",
              "        </tr>\n",
              "        <tr>\n",
              "            <td>ISAT_Value_Add_Read</td>\n",
              "            <td>REAL</td>\n",
              "            <td>4</td>\n",
              "        </tr>\n",
              "        <tr>\n",
              "            <td>ISAT_Value_Add_Color_Math</td>\n",
              "            <td>TEXT</td>\n",
              "            <td>4</td>\n",
              "        </tr>\n",
              "        <tr>\n",
              "            <td>ISAT_Value_Add_Color_Read</td>\n",
              "            <td>TEXT</td>\n",
              "            <td>4</td>\n",
              "        </tr>\n",
              "        <tr>\n",
              "            <td>Students_Taking__Algebra__</td>\n",
              "            <td>TEXT</td>\n",
              "            <td>4</td>\n",
              "        </tr>\n",
              "        <tr>\n",
              "            <td>Students_Passing__Algebra__</td>\n",
              "            <td>TEXT</td>\n",
              "            <td>4</td>\n",
              "        </tr>\n",
              "        <tr>\n",
              "            <td>9th Grade EXPLORE (2009)</td>\n",
              "            <td>TEXT</td>\n",
              "            <td>4</td>\n",
              "        </tr>\n",
              "        <tr>\n",
              "            <td>9th Grade EXPLORE (2010)</td>\n",
              "            <td>TEXT</td>\n",
              "            <td>4</td>\n",
              "        </tr>\n",
              "        <tr>\n",
              "            <td>10th Grade PLAN (2009)</td>\n",
              "            <td>TEXT</td>\n",
              "            <td>4</td>\n",
              "        </tr>\n",
              "        <tr>\n",
              "            <td>10th Grade PLAN (2010)</td>\n",
              "            <td>TEXT</td>\n",
              "            <td>4</td>\n",
              "        </tr>\n",
              "        <tr>\n",
              "            <td>Net_Change_EXPLORE_and_PLAN</td>\n",
              "            <td>TEXT</td>\n",
              "            <td>4</td>\n",
              "        </tr>\n",
              "        <tr>\n",
              "            <td>11th Grade Average ACT (2011)</td>\n",
              "            <td>TEXT</td>\n",
              "            <td>4</td>\n",
              "        </tr>\n",
              "        <tr>\n",
              "            <td>Net_Change_PLAN_and_ACT</td>\n",
              "            <td>TEXT</td>\n",
              "            <td>4</td>\n",
              "        </tr>\n",
              "        <tr>\n",
              "            <td>College_Eligibility__</td>\n",
              "            <td>TEXT</td>\n",
              "            <td>4</td>\n",
              "        </tr>\n",
              "        <tr>\n",
              "            <td>Graduation_Rate__</td>\n",
              "            <td>TEXT</td>\n",
              "            <td>4</td>\n",
              "        </tr>\n",
              "        <tr>\n",
              "            <td>College_Enrollment_Rate__</td>\n",
              "            <td>TEXT</td>\n",
              "            <td>4</td>\n",
              "        </tr>\n",
              "        <tr>\n",
              "            <td>COLLEGE_ENROLLMENT</td>\n",
              "            <td>INTEGER</td>\n",
              "            <td>7</td>\n",
              "        </tr>\n",
              "        <tr>\n",
              "            <td>General_Services_Route</td>\n",
              "            <td>INTEGER</td>\n",
              "            <td>7</td>\n",
              "        </tr>\n",
              "        <tr>\n",
              "            <td>Freshman_on_Track_Rate__</td>\n",
              "            <td>TEXT</td>\n",
              "            <td>4</td>\n",
              "        </tr>\n",
              "        <tr>\n",
              "            <td>X_COORDINATE</td>\n",
              "            <td>REAL</td>\n",
              "            <td>4</td>\n",
              "        </tr>\n",
              "        <tr>\n",
              "            <td>Y_COORDINATE</td>\n",
              "            <td>REAL</td>\n",
              "            <td>4</td>\n",
              "        </tr>\n",
              "        <tr>\n",
              "            <td>Latitude</td>\n",
              "            <td>REAL</td>\n",
              "            <td>4</td>\n",
              "        </tr>\n",
              "        <tr>\n",
              "            <td>Longitude</td>\n",
              "            <td>REAL</td>\n",
              "            <td>4</td>\n",
              "        </tr>\n",
              "        <tr>\n",
              "            <td>COMMUNITY_AREA_NUMBER</td>\n",
              "            <td>INTEGER</td>\n",
              "            <td>7</td>\n",
              "        </tr>\n",
              "        <tr>\n",
              "            <td>COMMUNITY_AREA_NAME</td>\n",
              "            <td>TEXT</td>\n",
              "            <td>4</td>\n",
              "        </tr>\n",
              "        <tr>\n",
              "            <td>Ward</td>\n",
              "            <td>INTEGER</td>\n",
              "            <td>7</td>\n",
              "        </tr>\n",
              "        <tr>\n",
              "            <td>Police_District</td>\n",
              "            <td>INTEGER</td>\n",
              "            <td>7</td>\n",
              "        </tr>\n",
              "        <tr>\n",
              "            <td>Location</td>\n",
              "            <td>TEXT</td>\n",
              "            <td>4</td>\n",
              "        </tr>\n",
              "    </tbody>\n",
              "</table>"
            ]
          },
          "metadata": {},
          "execution_count": 9
        }
      ],
      "source": [
        "# type in your query to retrieve all column names in the SCHOOLS table along with their datatypes and length\n",
        "%sql SELECT name,type,length(type) FROM PRAGMA_TABLE_INFO('CHICAGO_PUBLIC_SCHOOLS_DATA');"
      ]
    },
    {
      "cell_type": "markdown",
      "metadata": {
        "id": "8mjLcR-06sfo"
      },
      "source": [
        "### 질문\n",
        "\n",
        "1. \"SCHOOL ID\" 속성의 열 이름은 대문자인가, 아니면 혼합 대소문자인가?  \n",
        "2. 테이블에서 \"Community Area Name\" 열의 이름은 무엇인가? 공백이 포함되어 있는가?  \n",
        "3. 열 이름에서 공백이나 괄호(둥근 괄호)가 밑줄 문자 \"_\"로 대체된 열이 있는가?  \n"
      ]
    },
    {
      "cell_type": "markdown",
      "metadata": {
        "id": "Ahjh0BtU6sfo"
      },
      "source": [
        "## Problems\n",
        "\n",
        "### Problem 1\n",
        "\n",
        "##### How many Elementary Schools are in the dataset?\n",
        "##### 데이터 세트에 포함된 초등학교의 수는 몇 개인가?"
      ]
    },
    {
      "cell_type": "code",
      "execution_count": 34,
      "metadata": {
        "tags": [],
        "colab": {
          "base_uri": "https://localhost:8080/",
          "height": 97
        },
        "id": "vnqftTmP6sfo",
        "outputId": "88631471-5a20-41db-cc72-94967b909d52"
      },
      "outputs": [
        {
          "output_type": "stream",
          "name": "stdout",
          "text": [
            " * sqlite:///RealWorldData.db\n",
            "Done.\n"
          ]
        },
        {
          "output_type": "execute_result",
          "data": {
            "text/plain": [
              "[(462,)]"
            ],
            "text/html": [
              "<table>\n",
              "    <thead>\n",
              "        <tr>\n",
              "            <th>count(*)</th>\n",
              "        </tr>\n",
              "    </thead>\n",
              "    <tbody>\n",
              "        <tr>\n",
              "            <td>462</td>\n",
              "        </tr>\n",
              "    </tbody>\n",
              "</table>"
            ]
          },
          "metadata": {},
          "execution_count": 34
        }
      ],
      "source": [
        "%sql select distinct count(*) from CHICAGO_PUBLIC_SCHOOLS_DATA where \"Elementary, Middle, or High School\"='ES'"
      ]
    },
    {
      "cell_type": "markdown",
      "metadata": {
        "id": "7Cr7lNJd6sfp"
      },
      "source": [
        "### Problem 2\n",
        "\n",
        "##### What is the highest Safety Score?\n",
        "##### 가장 높은 Safety Score는?\n"
      ]
    },
    {
      "cell_type": "code",
      "execution_count": 32,
      "metadata": {
        "tags": [],
        "colab": {
          "base_uri": "https://localhost:8080/",
          "height": 97
        },
        "id": "LL-ug0VA6sfp",
        "outputId": "853835ab-ebbf-4e0c-f86d-42ffc8d13ff2"
      },
      "outputs": [
        {
          "output_type": "stream",
          "name": "stdout",
          "text": [
            " * sqlite:///RealWorldData.db\n",
            "Done.\n"
          ]
        },
        {
          "output_type": "execute_result",
          "data": {
            "text/plain": [
              "[(99.0,)]"
            ],
            "text/html": [
              "<table>\n",
              "    <thead>\n",
              "        <tr>\n",
              "            <th>MAX_SAFETY_SCORE</th>\n",
              "        </tr>\n",
              "    </thead>\n",
              "    <tbody>\n",
              "        <tr>\n",
              "            <td>99.0</td>\n",
              "        </tr>\n",
              "    </tbody>\n",
              "</table>"
            ]
          },
          "metadata": {},
          "execution_count": 32
        }
      ],
      "source": [
        "%sql select max(\"SAFETY_SCORE\") as'MAX_SAFETY_SCORE' from CHICAGO_PUBLIC_SCHOOLS_DATA"
      ]
    },
    {
      "cell_type": "markdown",
      "metadata": {
        "id": "R3fLtI1Y6sfp"
      },
      "source": [
        "### Problem 3\n",
        "\n",
        "##### Which schools have highest Safety Score?\n",
        "##### 가장 높은 Safety Score를 가진 학교는 어떤 학교인가?"
      ]
    },
    {
      "cell_type": "code",
      "execution_count": 38,
      "metadata": {
        "tags": [],
        "colab": {
          "base_uri": "https://localhost:8080/",
          "height": 474
        },
        "id": "k6mMcW_56sfp",
        "outputId": "40536f02-1ea1-4e47-d63e-cf5329cc7a84"
      },
      "outputs": [
        {
          "output_type": "stream",
          "name": "stdout",
          "text": [
            " * sqlite:///RealWorldData.db\n",
            "Done.\n"
          ]
        },
        {
          "output_type": "execute_result",
          "data": {
            "text/plain": [
              "[('Abraham Lincoln Elementary School', 99.0),\n",
              " ('Alexander Graham Bell Elementary School', 99.0),\n",
              " ('Annie Keller Elementary Gifted Magnet School', 99.0),\n",
              " ('Augustus H Burley Elementary School', 99.0),\n",
              " ('Edgar Allan Poe Elementary Classical School', 99.0),\n",
              " ('Edgebrook Elementary School', 99.0),\n",
              " ('Ellen Mitchell Elementary School', 99.0),\n",
              " ('James E McDade Elementary Classical School', 99.0),\n",
              " ('James G Blaine Elementary School', 99.0),\n",
              " ('LaSalle Elementary Language Academy', 99.0),\n",
              " ('Mary E Courtenay Elementary Language Arts Center', 99.0),\n",
              " ('Northside College Preparatory High School', 99.0),\n",
              " ('Northside Learning Center High School', 99.0),\n",
              " ('Norwood Park Elementary School', 99.0),\n",
              " ('Oriole Park Elementary School', 99.0),\n",
              " ('Sauganash Elementary School', 99.0),\n",
              " ('Stephen Decatur Classical Elementary School', 99.0),\n",
              " ('Talman Elementary School', 99.0),\n",
              " ('Wildwood Elementary School', 99.0)]"
            ],
            "text/html": [
              "<table>\n",
              "    <thead>\n",
              "        <tr>\n",
              "            <th>NAME_OF_SCHOOL</th>\n",
              "            <th>SAFETY_SCORE</th>\n",
              "        </tr>\n",
              "    </thead>\n",
              "    <tbody>\n",
              "        <tr>\n",
              "            <td>Abraham Lincoln Elementary School</td>\n",
              "            <td>99.0</td>\n",
              "        </tr>\n",
              "        <tr>\n",
              "            <td>Alexander Graham Bell Elementary School</td>\n",
              "            <td>99.0</td>\n",
              "        </tr>\n",
              "        <tr>\n",
              "            <td>Annie Keller Elementary Gifted Magnet School</td>\n",
              "            <td>99.0</td>\n",
              "        </tr>\n",
              "        <tr>\n",
              "            <td>Augustus H Burley Elementary School</td>\n",
              "            <td>99.0</td>\n",
              "        </tr>\n",
              "        <tr>\n",
              "            <td>Edgar Allan Poe Elementary Classical School</td>\n",
              "            <td>99.0</td>\n",
              "        </tr>\n",
              "        <tr>\n",
              "            <td>Edgebrook Elementary School</td>\n",
              "            <td>99.0</td>\n",
              "        </tr>\n",
              "        <tr>\n",
              "            <td>Ellen Mitchell Elementary School</td>\n",
              "            <td>99.0</td>\n",
              "        </tr>\n",
              "        <tr>\n",
              "            <td>James E McDade Elementary Classical School</td>\n",
              "            <td>99.0</td>\n",
              "        </tr>\n",
              "        <tr>\n",
              "            <td>James G Blaine Elementary School</td>\n",
              "            <td>99.0</td>\n",
              "        </tr>\n",
              "        <tr>\n",
              "            <td>LaSalle Elementary Language Academy</td>\n",
              "            <td>99.0</td>\n",
              "        </tr>\n",
              "        <tr>\n",
              "            <td>Mary E Courtenay Elementary Language Arts Center</td>\n",
              "            <td>99.0</td>\n",
              "        </tr>\n",
              "        <tr>\n",
              "            <td>Northside College Preparatory High School</td>\n",
              "            <td>99.0</td>\n",
              "        </tr>\n",
              "        <tr>\n",
              "            <td>Northside Learning Center High School</td>\n",
              "            <td>99.0</td>\n",
              "        </tr>\n",
              "        <tr>\n",
              "            <td>Norwood Park Elementary School</td>\n",
              "            <td>99.0</td>\n",
              "        </tr>\n",
              "        <tr>\n",
              "            <td>Oriole Park Elementary School</td>\n",
              "            <td>99.0</td>\n",
              "        </tr>\n",
              "        <tr>\n",
              "            <td>Sauganash Elementary School</td>\n",
              "            <td>99.0</td>\n",
              "        </tr>\n",
              "        <tr>\n",
              "            <td>Stephen Decatur Classical Elementary School</td>\n",
              "            <td>99.0</td>\n",
              "        </tr>\n",
              "        <tr>\n",
              "            <td>Talman Elementary School</td>\n",
              "            <td>99.0</td>\n",
              "        </tr>\n",
              "        <tr>\n",
              "            <td>Wildwood Elementary School</td>\n",
              "            <td>99.0</td>\n",
              "        </tr>\n",
              "    </tbody>\n",
              "</table>"
            ]
          },
          "metadata": {},
          "execution_count": 38
        }
      ],
      "source": [
        "%sql select \"NAME_OF_SCHOOL\" ,\"SAFETY_SCORE\" from CHICAGO_PUBLIC_SCHOOLS_DATA where \"SAFETY_SCORE\"=(select max(\"SAFETY_SCORE\")from CHICAGO_PUBLIC_SCHOOLS_DATA);"
      ]
    },
    {
      "cell_type": "markdown",
      "metadata": {
        "id": "qnspFx1i6sfp"
      },
      "source": [
        "### Problem 4\n",
        "\n",
        "##### What are the top 10 schools with the highest \"Average Student Attendance\"?\n",
        "##### \"Average Student Attendance\"가 가장 높은 상위 10개 학교는 무엇인가?"
      ]
    },
    {
      "cell_type": "code",
      "execution_count": 44,
      "metadata": {
        "tags": [],
        "colab": {
          "base_uri": "https://localhost:8080/",
          "height": 285
        },
        "id": "xIena7xO6sfp",
        "outputId": "03dd9bf1-5c8f-424b-c9bc-7838fd765e57"
      },
      "outputs": [
        {
          "output_type": "stream",
          "name": "stdout",
          "text": [
            " * sqlite:///RealWorldData.db\n",
            "Done.\n"
          ]
        },
        {
          "output_type": "execute_result",
          "data": {
            "text/plain": [
              "[('John Charles Haines Elementary School', '98.40%'),\n",
              " ('James Ward Elementary School', '97.80%'),\n",
              " ('Edgar Allan Poe Elementary Classical School', '97.60%'),\n",
              " ('Orozco Fine Arts & Sciences Elementary School', '97.60%'),\n",
              " ('Rachel Carson Elementary School', '97.60%'),\n",
              " ('Annie Keller Elementary Gifted Magnet School', '97.50%'),\n",
              " ('Andrew Jackson Elementary Language Academy', '97.40%'),\n",
              " ('Lenart Elementary Regional Gifted Center', '97.40%'),\n",
              " ('Disney II Magnet School', '97.30%'),\n",
              " ('John H Vanderpoel Elementary Magnet School', '97.20%')]"
            ],
            "text/html": [
              "<table>\n",
              "    <thead>\n",
              "        <tr>\n",
              "            <th>NAME_OF_SCHOOL</th>\n",
              "            <th>AVERAGE_STUDENT_ATTENDANCE</th>\n",
              "        </tr>\n",
              "    </thead>\n",
              "    <tbody>\n",
              "        <tr>\n",
              "            <td>John Charles Haines Elementary School</td>\n",
              "            <td>98.40%</td>\n",
              "        </tr>\n",
              "        <tr>\n",
              "            <td>James Ward Elementary School</td>\n",
              "            <td>97.80%</td>\n",
              "        </tr>\n",
              "        <tr>\n",
              "            <td>Edgar Allan Poe Elementary Classical School</td>\n",
              "            <td>97.60%</td>\n",
              "        </tr>\n",
              "        <tr>\n",
              "            <td>Orozco Fine Arts &amp; Sciences Elementary School</td>\n",
              "            <td>97.60%</td>\n",
              "        </tr>\n",
              "        <tr>\n",
              "            <td>Rachel Carson Elementary School</td>\n",
              "            <td>97.60%</td>\n",
              "        </tr>\n",
              "        <tr>\n",
              "            <td>Annie Keller Elementary Gifted Magnet School</td>\n",
              "            <td>97.50%</td>\n",
              "        </tr>\n",
              "        <tr>\n",
              "            <td>Andrew Jackson Elementary Language Academy</td>\n",
              "            <td>97.40%</td>\n",
              "        </tr>\n",
              "        <tr>\n",
              "            <td>Lenart Elementary Regional Gifted Center</td>\n",
              "            <td>97.40%</td>\n",
              "        </tr>\n",
              "        <tr>\n",
              "            <td>Disney II Magnet School</td>\n",
              "            <td>97.30%</td>\n",
              "        </tr>\n",
              "        <tr>\n",
              "            <td>John H Vanderpoel Elementary Magnet School</td>\n",
              "            <td>97.20%</td>\n",
              "        </tr>\n",
              "    </tbody>\n",
              "</table>"
            ]
          },
          "metadata": {},
          "execution_count": 44
        }
      ],
      "source": [
        "%sql select \"NAME_OF_SCHOOL\",\"AVERAGE_STUDENT_ATTENDANCE\" from CHICAGO_PUBLIC_SCHOOLS_DATA order by AVERAGE_STUDENT_ATTENDANCE desc limit 10;"
      ]
    },
    {
      "cell_type": "markdown",
      "metadata": {
        "id": "ET8ua0iR6sfp"
      },
      "source": [
        "### Problem 5\n",
        "\n",
        "##### Retrieve the list of 5 Schools with the lowest Average Student Attendance sorted in ascending order based on attendance\n",
        "##### Average Student Attendance가 가장 낮은 5개 학교를 조회하라. 출석률을 기준으로 오름차순 정렬하라."
      ]
    },
    {
      "cell_type": "code",
      "execution_count": 46,
      "metadata": {
        "tags": [],
        "colab": {
          "base_uri": "https://localhost:8080/",
          "height": 181
        },
        "id": "UxTLWLbg6sfp",
        "outputId": "9b685e5a-e4ba-4c67-f1e9-dc7ae43fc7b6"
      },
      "outputs": [
        {
          "output_type": "stream",
          "name": "stdout",
          "text": [
            " * sqlite:///RealWorldData.db\n",
            "Done.\n"
          ]
        },
        {
          "output_type": "execute_result",
          "data": {
            "text/plain": [
              "[('Velma F Thomas Early Childhood Center', None),\n",
              " ('Richard T Crane Technical Preparatory High School', '57.90%'),\n",
              " ('Barbara Vick Early Childhood & Family Center', '60.90%'),\n",
              " ('Dyett High School', '62.50%'),\n",
              " ('Wendell Phillips Academy High School', '63.00%')]"
            ],
            "text/html": [
              "<table>\n",
              "    <thead>\n",
              "        <tr>\n",
              "            <th>NAME_OF_SCHOOL</th>\n",
              "            <th>AVERAGE_STUDENT_ATTENDANCE</th>\n",
              "        </tr>\n",
              "    </thead>\n",
              "    <tbody>\n",
              "        <tr>\n",
              "            <td>Velma F Thomas Early Childhood Center</td>\n",
              "            <td>None</td>\n",
              "        </tr>\n",
              "        <tr>\n",
              "            <td>Richard T Crane Technical Preparatory High School</td>\n",
              "            <td>57.90%</td>\n",
              "        </tr>\n",
              "        <tr>\n",
              "            <td>Barbara Vick Early Childhood &amp; Family Center</td>\n",
              "            <td>60.90%</td>\n",
              "        </tr>\n",
              "        <tr>\n",
              "            <td>Dyett High School</td>\n",
              "            <td>62.50%</td>\n",
              "        </tr>\n",
              "        <tr>\n",
              "            <td>Wendell Phillips Academy High School</td>\n",
              "            <td>63.00%</td>\n",
              "        </tr>\n",
              "    </tbody>\n",
              "</table>"
            ]
          },
          "metadata": {},
          "execution_count": 46
        }
      ],
      "source": [
        "%sql select \"NAME_OF_SCHOOL\", \"AVERAGE_STUDENT_ATTENDANCE\" from CHICAGO_PUBLIC_SCHOOLS_DATA order by AVERAGE_STUDENT_ATTENDANCE asc limit 5;"
      ]
    },
    {
      "cell_type": "markdown",
      "metadata": {
        "id": "kyqveHYn6sft"
      },
      "source": [
        "### Problem 6\n",
        "\n",
        "##### Now remove the '%' sign from the above result set for Average Student Attendance column   \n",
        "##### 이제 Average Student Attendance 열에서 '%' 기호를 제거하라."
      ]
    },
    {
      "cell_type": "code",
      "source": [
        "%sql select \"NAME_OF_SCHOOL\", replace(\"AVERAGE_STUDENT_ATTENDANCE\",'%','') from CHICAGO_PUBLIC_SCHOOLS_DATA order by AVERAGE_STUDENT_ATTENDANCE asc limit 5;"
      ],
      "metadata": {
        "colab": {
          "base_uri": "https://localhost:8080/",
          "height": 181
        },
        "id": "3Og_dLKh61C8",
        "outputId": "8afcf1e7-bbcd-44bd-c466-cf52a6412245"
      },
      "execution_count": 49,
      "outputs": [
        {
          "output_type": "stream",
          "name": "stdout",
          "text": [
            " * sqlite:///RealWorldData.db\n",
            "Done.\n"
          ]
        },
        {
          "output_type": "execute_result",
          "data": {
            "text/plain": [
              "[('Velma F Thomas Early Childhood Center', None),\n",
              " ('Richard T Crane Technical Preparatory High School', '57.90'),\n",
              " ('Barbara Vick Early Childhood & Family Center', '60.90'),\n",
              " ('Dyett High School', '62.50'),\n",
              " ('Wendell Phillips Academy High School', '63.00')]"
            ],
            "text/html": [
              "<table>\n",
              "    <thead>\n",
              "        <tr>\n",
              "            <th>NAME_OF_SCHOOL</th>\n",
              "            <th>replace(&quot;AVERAGE_STUDENT_ATTENDANCE&quot;,&#x27;%&#x27;,&#x27;&#x27;)</th>\n",
              "        </tr>\n",
              "    </thead>\n",
              "    <tbody>\n",
              "        <tr>\n",
              "            <td>Velma F Thomas Early Childhood Center</td>\n",
              "            <td>None</td>\n",
              "        </tr>\n",
              "        <tr>\n",
              "            <td>Richard T Crane Technical Preparatory High School</td>\n",
              "            <td>57.90</td>\n",
              "        </tr>\n",
              "        <tr>\n",
              "            <td>Barbara Vick Early Childhood &amp; Family Center</td>\n",
              "            <td>60.90</td>\n",
              "        </tr>\n",
              "        <tr>\n",
              "            <td>Dyett High School</td>\n",
              "            <td>62.50</td>\n",
              "        </tr>\n",
              "        <tr>\n",
              "            <td>Wendell Phillips Academy High School</td>\n",
              "            <td>63.00</td>\n",
              "        </tr>\n",
              "    </tbody>\n",
              "</table>"
            ]
          },
          "metadata": {},
          "execution_count": 49
        }
      ]
    },
    {
      "cell_type": "code",
      "execution_count": null,
      "metadata": {
        "tags": [],
        "id": "2DHGKwjc6sft",
        "outputId": "7aa15dd7-bf8e-4b1f-e5d2-0c9cd6905d16",
        "collapsed": true
      },
      "outputs": [
        {
          "name": "stdout",
          "output_type": "stream",
          "text": [
            " * sqlite:///RealWorldData.db\n",
            "Done.\n"
          ]
        },
        {
          "data": {
            "text/html": [
              "<table>\n",
              "    <thead>\n",
              "        <tr>\n",
              "            <th>NAME_OF_SCHOOL</th>\n",
              "            <th>REPLACE(Average_Student_Attendance, &#x27;%&#x27;, &#x27;&#x27;)</th>\n",
              "        </tr>\n",
              "    </thead>\n",
              "    <tbody>\n",
              "        <tr>\n",
              "            <td>Velma F Thomas Early Childhood Center</td>\n",
              "            <td>None</td>\n",
              "        </tr>\n",
              "        <tr>\n",
              "            <td>Richard T Crane Technical Preparatory High School</td>\n",
              "            <td>57.90</td>\n",
              "        </tr>\n",
              "        <tr>\n",
              "            <td>Barbara Vick Early Childhood &amp; Family Center</td>\n",
              "            <td>60.90</td>\n",
              "        </tr>\n",
              "        <tr>\n",
              "            <td>Dyett High School</td>\n",
              "            <td>62.50</td>\n",
              "        </tr>\n",
              "        <tr>\n",
              "            <td>Wendell Phillips Academy High School</td>\n",
              "            <td>63.00</td>\n",
              "        </tr>\n",
              "    </tbody>\n",
              "</table>"
            ],
            "text/plain": [
              "[('Velma F Thomas Early Childhood Center', None),\n",
              " ('Richard T Crane Technical Preparatory High School', '57.90'),\n",
              " ('Barbara Vick Early Childhood & Family Center', '60.90'),\n",
              " ('Dyett High School', '62.50'),\n",
              " ('Wendell Phillips Academy High School', '63.00')]"
            ]
          },
          "execution_count": 18,
          "metadata": {},
          "output_type": "execute_result"
        }
      ],
      "source": []
    },
    {
      "cell_type": "markdown",
      "metadata": {
        "id": "rgtiGVAA6sft"
      },
      "source": [
        "Double-click **here** for a hint\n",
        "\n",
        "<!--\n",
        "Use the REPLACE() function to replace '%' with ''\n",
        "\n",
        "-->\n"
      ]
    },
    {
      "cell_type": "markdown",
      "metadata": {
        "id": "h2ZmLRwz6sft"
      },
      "source": [
        "Double-click **here** for the solution.\n",
        "\n",
        "<!-- Hint:\n",
        "\n",
        "%sql SELECT Name_of_School, REPLACE(Average_Student_Attendance, '%', '') \\\n",
        "     from CHICAGO_PUBLIC_SCHOOLS_DATA \\\n",
        "     order by Average_Student_Attendance \\\n",
        "     LIMIT 5\n",
        "\n",
        "-->\n"
      ]
    },
    {
      "cell_type": "markdown",
      "metadata": {
        "id": "bUC5X3th6sft"
      },
      "source": [
        "### Problem 7\n",
        "\n",
        "##### Which Schools have Average Student Attendance lower than 70%?\n",
        "##### Average Student Attendance가 70% 미만인 학교는 어떤 학교인가?"
      ]
    },
    {
      "cell_type": "code",
      "execution_count": 54,
      "metadata": {
        "tags": [],
        "id": "ti0CSO026sft",
        "outputId": "18c22f86-0d8d-4640-9027-1de7ee1817cd",
        "colab": {
          "base_uri": "https://localhost:8080/",
          "height": 243
        }
      },
      "outputs": [
        {
          "output_type": "stream",
          "name": "stdout",
          "text": [
            " * sqlite:///RealWorldData.db\n",
            "Done.\n"
          ]
        },
        {
          "output_type": "execute_result",
          "data": {
            "text/plain": [
              "[('Richard T Crane Technical Preparatory High School', '57.90%'),\n",
              " ('Barbara Vick Early Childhood & Family Center', '60.90%'),\n",
              " ('Dyett High School', '62.50%'),\n",
              " ('Wendell Phillips Academy High School', '63.00%'),\n",
              " ('Orr Academy High School', '66.30%'),\n",
              " ('Manley Career Academy High School', '66.80%'),\n",
              " ('Chicago Vocational Career Academy High School', '68.80%'),\n",
              " ('Roberto Clemente Community Academy High School', '69.60%')]"
            ],
            "text/html": [
              "<table>\n",
              "    <thead>\n",
              "        <tr>\n",
              "            <th>NAME_OF_SCHOOL</th>\n",
              "            <th>AVERAGE_STUDENT_ATTENDANCE</th>\n",
              "        </tr>\n",
              "    </thead>\n",
              "    <tbody>\n",
              "        <tr>\n",
              "            <td>Richard T Crane Technical Preparatory High School</td>\n",
              "            <td>57.90%</td>\n",
              "        </tr>\n",
              "        <tr>\n",
              "            <td>Barbara Vick Early Childhood &amp; Family Center</td>\n",
              "            <td>60.90%</td>\n",
              "        </tr>\n",
              "        <tr>\n",
              "            <td>Dyett High School</td>\n",
              "            <td>62.50%</td>\n",
              "        </tr>\n",
              "        <tr>\n",
              "            <td>Wendell Phillips Academy High School</td>\n",
              "            <td>63.00%</td>\n",
              "        </tr>\n",
              "        <tr>\n",
              "            <td>Orr Academy High School</td>\n",
              "            <td>66.30%</td>\n",
              "        </tr>\n",
              "        <tr>\n",
              "            <td>Manley Career Academy High School</td>\n",
              "            <td>66.80%</td>\n",
              "        </tr>\n",
              "        <tr>\n",
              "            <td>Chicago Vocational Career Academy High School</td>\n",
              "            <td>68.80%</td>\n",
              "        </tr>\n",
              "        <tr>\n",
              "            <td>Roberto Clemente Community Academy High School</td>\n",
              "            <td>69.60%</td>\n",
              "        </tr>\n",
              "    </tbody>\n",
              "</table>"
            ]
          },
          "metadata": {},
          "execution_count": 54
        }
      ],
      "source": [
        "%sql select \"NAME_OF_SCHOOL\", \"AVERAGE_STUDENT_ATTENDANCE\" from CHICAGO_PUBLIC_SCHOOLS_DATA  where \"AVERAGE_STUDENT_ATTENDANCE\" <70 order by \"AVERAGE_STUDENT_ATTENDANCE\" asc ;"
      ]
    },
    {
      "cell_type": "markdown",
      "metadata": {
        "id": "kTqkMoHN6sft"
      },
      "source": [
        "Double-click **here** for a hint\n",
        "\n",
        "<!--\n",
        "The datatype of the \"Average_Student_Attendance\" column is varchar.\n",
        "So you cannot use it as is in the where clause for a numeric comparison.\n",
        "First use the CAST() function to cast it as a DECIMAL or DOUBLE\n",
        "e.g. CAST(\"Column_Name\" as DOUBLE)\n",
        "\n",
        "-->\n"
      ]
    },
    {
      "cell_type": "markdown",
      "metadata": {
        "id": "DNhbVlfO6sft"
      },
      "source": [
        "Double-click **here** for another hint\n",
        "\n",
        "<!--\n",
        "Don't forget the '%' age sign needs to be removed before casting\n",
        "-->\n"
      ]
    },
    {
      "cell_type": "markdown",
      "metadata": {
        "id": "1VeV2wGg6sft"
      },
      "source": [
        "Double-click **here** for the solution.\n",
        "\n",
        "<!-- Solution:\n",
        "\n",
        "%sql SELECT Name_of_School, Average_Student_Attendance  \\\n",
        "     from CHICAGO_PUBLIC_SCHOOLS_DATA \\\n",
        "     where CAST ( REPLACE(Average_Student_Attendance, '%', '') AS DOUBLE ) < 70 \\\n",
        "     order by Average_Student_Attendance\n",
        "     \n",
        "\n",
        "-->\n"
      ]
    },
    {
      "cell_type": "markdown",
      "metadata": {
        "id": "LNqk6q236sft"
      },
      "source": [
        "### Problem 8\n",
        "\n",
        "##### Get the total College Enrollment for each Community Area\n",
        "##### 각 Community Area별 총 College Enrollment를 구하라."
      ]
    },
    {
      "cell_type": "code",
      "execution_count": 68,
      "metadata": {
        "tags": [],
        "id": "RVFYyviw6sft",
        "outputId": "e74a7022-e72f-44dc-99e6-919747f46f7e",
        "colab": {
          "base_uri": "https://localhost:8080/",
          "height": 1000
        }
      },
      "outputs": [
        {
          "output_type": "stream",
          "name": "stdout",
          "text": [
            " * sqlite:///RealWorldData.db\n",
            "Done.\n"
          ]
        },
        {
          "output_type": "execute_result",
          "data": {
            "text/plain": [
              "[('ALBANY PARK', 6864),\n",
              " ('ARCHER HEIGHTS', 4823),\n",
              " ('ARMOUR SQUARE', 1458),\n",
              " ('ASHBURN', 6483),\n",
              " ('AUBURN GRESHAM', 4175),\n",
              " ('AUSTIN', 10933),\n",
              " ('AVALON PARK', 1522),\n",
              " ('AVONDALE', 3640),\n",
              " ('BELMONT CRAGIN', 14386),\n",
              " ('BEVERLY', 1636),\n",
              " ('BRIDGEPORT', 3167),\n",
              " ('BRIGHTON PARK', 9647),\n",
              " ('BURNSIDE', 549),\n",
              " ('CALUMET HEIGHTS', 1568),\n",
              " ('CHATHAM', 5042),\n",
              " ('CHICAGO LAWN', 7086),\n",
              " ('CLEARING', 2085),\n",
              " ('DOUGLAS', 4670),\n",
              " ('DUNNING', 4568),\n",
              " ('EAST GARFIELD PARK', 5337),\n",
              " ('EAST SIDE', 5305),\n",
              " ('EDGEWATER', 4600),\n",
              " ('EDISON PARK', 910),\n",
              " ('ENGLEWOOD', 6832),\n",
              " ('FOREST GLEN', 1431),\n",
              " ('FULLER PARK', 531),\n",
              " ('GAGE PARK', 9915),\n",
              " ('GARFIELD RIDGE', 4552),\n",
              " ('GRAND BOULEVARD', 2809),\n",
              " ('GREATER GRAND CROSSING', 4051),\n",
              " ('HEGEWISCH', 963),\n",
              " ('HERMOSA', 3975),\n",
              " ('HUMBOLDT PARK', 8620),\n",
              " ('HYDE PARK', 1930),\n",
              " ('IRVING PARK', 7764),\n",
              " ('JEFFERSON PARK', 1755),\n",
              " ('KENWOOD', 4287),\n",
              " ('LAKE VIEW', 7055),\n",
              " ('LINCOLN PARK', 5615),\n",
              " ('LINCOLN SQUARE', 4132),\n",
              " ('LOGAN SQUARE', 7351),\n",
              " ('LOOP', 871),\n",
              " ('LOWER WEST SIDE', 7257),\n",
              " ('MCKINLEY PARK', 1552),\n",
              " ('MONTCLARE', 1317),\n",
              " ('MORGAN PARK', 3271),\n",
              " ('MOUNT GREENWOOD', 2091),\n",
              " ('NEAR NORTH SIDE', 3362),\n",
              " ('NEAR SOUTH SIDE', 1378),\n",
              " ('NEAR WEST SIDE', 7975),\n",
              " ('NEW CITY', 7922),\n",
              " ('NORTH CENTER', 7541),\n",
              " ('NORTH LAWNDALE', 5146),\n",
              " ('NORTH PARK', 4210),\n",
              " ('NORWOOD PARK', 6469),\n",
              " ('OAKLAND', 140),\n",
              " ('OHARE', 786),\n",
              " ('PORTAGE PARK', 6954),\n",
              " ('PULLMAN', 1620),\n",
              " ('RIVERDALE', 1547),\n",
              " ('ROGERS PARK', 4068),\n",
              " ('ROSELAND', 7020),\n",
              " ('SOUTH CHICAGO', 4043),\n",
              " ('SOUTH DEERING', 1859),\n",
              " ('SOUTH LAWNDALE', 14793),\n",
              " ('SOUTH SHORE', 4543),\n",
              " ('UPTOWN', 4388),\n",
              " ('WASHINGTON HEIGHTS', 4006),\n",
              " ('WASHINGTON PARK', 2648),\n",
              " ('WEST ELSDON', 3700),\n",
              " ('WEST ENGLEWOOD', 5946),\n",
              " ('WEST GARFIELD PARK', 2622),\n",
              " ('WEST LAWN', 4207),\n",
              " ('WEST PULLMAN', 3240),\n",
              " ('WEST RIDGE', 8197),\n",
              " ('WEST TOWN', 9429),\n",
              " ('WOODLAWN', 4206)]"
            ],
            "text/html": [
              "<table>\n",
              "    <thead>\n",
              "        <tr>\n",
              "            <th>COMMUNITY_AREA_NAME</th>\n",
              "            <th>TOTAL_ENROLLMENT</th>\n",
              "        </tr>\n",
              "    </thead>\n",
              "    <tbody>\n",
              "        <tr>\n",
              "            <td>ALBANY PARK</td>\n",
              "            <td>6864</td>\n",
              "        </tr>\n",
              "        <tr>\n",
              "            <td>ARCHER HEIGHTS</td>\n",
              "            <td>4823</td>\n",
              "        </tr>\n",
              "        <tr>\n",
              "            <td>ARMOUR SQUARE</td>\n",
              "            <td>1458</td>\n",
              "        </tr>\n",
              "        <tr>\n",
              "            <td>ASHBURN</td>\n",
              "            <td>6483</td>\n",
              "        </tr>\n",
              "        <tr>\n",
              "            <td>AUBURN GRESHAM</td>\n",
              "            <td>4175</td>\n",
              "        </tr>\n",
              "        <tr>\n",
              "            <td>AUSTIN</td>\n",
              "            <td>10933</td>\n",
              "        </tr>\n",
              "        <tr>\n",
              "            <td>AVALON PARK</td>\n",
              "            <td>1522</td>\n",
              "        </tr>\n",
              "        <tr>\n",
              "            <td>AVONDALE</td>\n",
              "            <td>3640</td>\n",
              "        </tr>\n",
              "        <tr>\n",
              "            <td>BELMONT CRAGIN</td>\n",
              "            <td>14386</td>\n",
              "        </tr>\n",
              "        <tr>\n",
              "            <td>BEVERLY</td>\n",
              "            <td>1636</td>\n",
              "        </tr>\n",
              "        <tr>\n",
              "            <td>BRIDGEPORT</td>\n",
              "            <td>3167</td>\n",
              "        </tr>\n",
              "        <tr>\n",
              "            <td>BRIGHTON PARK</td>\n",
              "            <td>9647</td>\n",
              "        </tr>\n",
              "        <tr>\n",
              "            <td>BURNSIDE</td>\n",
              "            <td>549</td>\n",
              "        </tr>\n",
              "        <tr>\n",
              "            <td>CALUMET HEIGHTS</td>\n",
              "            <td>1568</td>\n",
              "        </tr>\n",
              "        <tr>\n",
              "            <td>CHATHAM</td>\n",
              "            <td>5042</td>\n",
              "        </tr>\n",
              "        <tr>\n",
              "            <td>CHICAGO LAWN</td>\n",
              "            <td>7086</td>\n",
              "        </tr>\n",
              "        <tr>\n",
              "            <td>CLEARING</td>\n",
              "            <td>2085</td>\n",
              "        </tr>\n",
              "        <tr>\n",
              "            <td>DOUGLAS</td>\n",
              "            <td>4670</td>\n",
              "        </tr>\n",
              "        <tr>\n",
              "            <td>DUNNING</td>\n",
              "            <td>4568</td>\n",
              "        </tr>\n",
              "        <tr>\n",
              "            <td>EAST GARFIELD PARK</td>\n",
              "            <td>5337</td>\n",
              "        </tr>\n",
              "        <tr>\n",
              "            <td>EAST SIDE</td>\n",
              "            <td>5305</td>\n",
              "        </tr>\n",
              "        <tr>\n",
              "            <td>EDGEWATER</td>\n",
              "            <td>4600</td>\n",
              "        </tr>\n",
              "        <tr>\n",
              "            <td>EDISON PARK</td>\n",
              "            <td>910</td>\n",
              "        </tr>\n",
              "        <tr>\n",
              "            <td>ENGLEWOOD</td>\n",
              "            <td>6832</td>\n",
              "        </tr>\n",
              "        <tr>\n",
              "            <td>FOREST GLEN</td>\n",
              "            <td>1431</td>\n",
              "        </tr>\n",
              "        <tr>\n",
              "            <td>FULLER PARK</td>\n",
              "            <td>531</td>\n",
              "        </tr>\n",
              "        <tr>\n",
              "            <td>GAGE PARK</td>\n",
              "            <td>9915</td>\n",
              "        </tr>\n",
              "        <tr>\n",
              "            <td>GARFIELD RIDGE</td>\n",
              "            <td>4552</td>\n",
              "        </tr>\n",
              "        <tr>\n",
              "            <td>GRAND BOULEVARD</td>\n",
              "            <td>2809</td>\n",
              "        </tr>\n",
              "        <tr>\n",
              "            <td>GREATER GRAND CROSSING</td>\n",
              "            <td>4051</td>\n",
              "        </tr>\n",
              "        <tr>\n",
              "            <td>HEGEWISCH</td>\n",
              "            <td>963</td>\n",
              "        </tr>\n",
              "        <tr>\n",
              "            <td>HERMOSA</td>\n",
              "            <td>3975</td>\n",
              "        </tr>\n",
              "        <tr>\n",
              "            <td>HUMBOLDT PARK</td>\n",
              "            <td>8620</td>\n",
              "        </tr>\n",
              "        <tr>\n",
              "            <td>HYDE PARK</td>\n",
              "            <td>1930</td>\n",
              "        </tr>\n",
              "        <tr>\n",
              "            <td>IRVING PARK</td>\n",
              "            <td>7764</td>\n",
              "        </tr>\n",
              "        <tr>\n",
              "            <td>JEFFERSON PARK</td>\n",
              "            <td>1755</td>\n",
              "        </tr>\n",
              "        <tr>\n",
              "            <td>KENWOOD</td>\n",
              "            <td>4287</td>\n",
              "        </tr>\n",
              "        <tr>\n",
              "            <td>LAKE VIEW</td>\n",
              "            <td>7055</td>\n",
              "        </tr>\n",
              "        <tr>\n",
              "            <td>LINCOLN PARK</td>\n",
              "            <td>5615</td>\n",
              "        </tr>\n",
              "        <tr>\n",
              "            <td>LINCOLN SQUARE</td>\n",
              "            <td>4132</td>\n",
              "        </tr>\n",
              "        <tr>\n",
              "            <td>LOGAN SQUARE</td>\n",
              "            <td>7351</td>\n",
              "        </tr>\n",
              "        <tr>\n",
              "            <td>LOOP</td>\n",
              "            <td>871</td>\n",
              "        </tr>\n",
              "        <tr>\n",
              "            <td>LOWER WEST SIDE</td>\n",
              "            <td>7257</td>\n",
              "        </tr>\n",
              "        <tr>\n",
              "            <td>MCKINLEY PARK</td>\n",
              "            <td>1552</td>\n",
              "        </tr>\n",
              "        <tr>\n",
              "            <td>MONTCLARE</td>\n",
              "            <td>1317</td>\n",
              "        </tr>\n",
              "        <tr>\n",
              "            <td>MORGAN PARK</td>\n",
              "            <td>3271</td>\n",
              "        </tr>\n",
              "        <tr>\n",
              "            <td>MOUNT GREENWOOD</td>\n",
              "            <td>2091</td>\n",
              "        </tr>\n",
              "        <tr>\n",
              "            <td>NEAR NORTH SIDE</td>\n",
              "            <td>3362</td>\n",
              "        </tr>\n",
              "        <tr>\n",
              "            <td>NEAR SOUTH SIDE</td>\n",
              "            <td>1378</td>\n",
              "        </tr>\n",
              "        <tr>\n",
              "            <td>NEAR WEST SIDE</td>\n",
              "            <td>7975</td>\n",
              "        </tr>\n",
              "        <tr>\n",
              "            <td>NEW CITY</td>\n",
              "            <td>7922</td>\n",
              "        </tr>\n",
              "        <tr>\n",
              "            <td>NORTH CENTER</td>\n",
              "            <td>7541</td>\n",
              "        </tr>\n",
              "        <tr>\n",
              "            <td>NORTH LAWNDALE</td>\n",
              "            <td>5146</td>\n",
              "        </tr>\n",
              "        <tr>\n",
              "            <td>NORTH PARK</td>\n",
              "            <td>4210</td>\n",
              "        </tr>\n",
              "        <tr>\n",
              "            <td>NORWOOD PARK</td>\n",
              "            <td>6469</td>\n",
              "        </tr>\n",
              "        <tr>\n",
              "            <td>OAKLAND</td>\n",
              "            <td>140</td>\n",
              "        </tr>\n",
              "        <tr>\n",
              "            <td>OHARE</td>\n",
              "            <td>786</td>\n",
              "        </tr>\n",
              "        <tr>\n",
              "            <td>PORTAGE PARK</td>\n",
              "            <td>6954</td>\n",
              "        </tr>\n",
              "        <tr>\n",
              "            <td>PULLMAN</td>\n",
              "            <td>1620</td>\n",
              "        </tr>\n",
              "        <tr>\n",
              "            <td>RIVERDALE</td>\n",
              "            <td>1547</td>\n",
              "        </tr>\n",
              "        <tr>\n",
              "            <td>ROGERS PARK</td>\n",
              "            <td>4068</td>\n",
              "        </tr>\n",
              "        <tr>\n",
              "            <td>ROSELAND</td>\n",
              "            <td>7020</td>\n",
              "        </tr>\n",
              "        <tr>\n",
              "            <td>SOUTH CHICAGO</td>\n",
              "            <td>4043</td>\n",
              "        </tr>\n",
              "        <tr>\n",
              "            <td>SOUTH DEERING</td>\n",
              "            <td>1859</td>\n",
              "        </tr>\n",
              "        <tr>\n",
              "            <td>SOUTH LAWNDALE</td>\n",
              "            <td>14793</td>\n",
              "        </tr>\n",
              "        <tr>\n",
              "            <td>SOUTH SHORE</td>\n",
              "            <td>4543</td>\n",
              "        </tr>\n",
              "        <tr>\n",
              "            <td>UPTOWN</td>\n",
              "            <td>4388</td>\n",
              "        </tr>\n",
              "        <tr>\n",
              "            <td>WASHINGTON HEIGHTS</td>\n",
              "            <td>4006</td>\n",
              "        </tr>\n",
              "        <tr>\n",
              "            <td>WASHINGTON PARK</td>\n",
              "            <td>2648</td>\n",
              "        </tr>\n",
              "        <tr>\n",
              "            <td>WEST ELSDON</td>\n",
              "            <td>3700</td>\n",
              "        </tr>\n",
              "        <tr>\n",
              "            <td>WEST ENGLEWOOD</td>\n",
              "            <td>5946</td>\n",
              "        </tr>\n",
              "        <tr>\n",
              "            <td>WEST GARFIELD PARK</td>\n",
              "            <td>2622</td>\n",
              "        </tr>\n",
              "        <tr>\n",
              "            <td>WEST LAWN</td>\n",
              "            <td>4207</td>\n",
              "        </tr>\n",
              "        <tr>\n",
              "            <td>WEST PULLMAN</td>\n",
              "            <td>3240</td>\n",
              "        </tr>\n",
              "        <tr>\n",
              "            <td>WEST RIDGE</td>\n",
              "            <td>8197</td>\n",
              "        </tr>\n",
              "        <tr>\n",
              "            <td>WEST TOWN</td>\n",
              "            <td>9429</td>\n",
              "        </tr>\n",
              "        <tr>\n",
              "            <td>WOODLAWN</td>\n",
              "            <td>4206</td>\n",
              "        </tr>\n",
              "    </tbody>\n",
              "</table>"
            ]
          },
          "metadata": {},
          "execution_count": 68
        }
      ],
      "source": [
        "%sql select \"COMMUNITY_AREA_NAME\", sum(\"COLLEGE_ENROLLMENT\")as\"TOTAL_ENROLLMENT\"  from CHICAGO_PUBLIC_SCHOOLS_DATA group by \"COMMUNITY_AREA_NAME\" ;"
      ]
    },
    {
      "cell_type": "markdown",
      "metadata": {
        "id": "7M_VQJUP6sfu"
      },
      "source": [
        "### Problem 9\n",
        "\n",
        "##### Get the 5 Community Areas with the least total College Enrollment  sorted in ascending order\n",
        "##### 총 College Enrollment가 가장 적은 상위 5개 Community Area를 구하라. 오름차순으로 정렬하라."
      ]
    },
    {
      "cell_type": "code",
      "execution_count": 10,
      "metadata": {
        "tags": [],
        "colab": {
          "base_uri": "https://localhost:8080/",
          "height": 406
        },
        "id": "XKQ7TAUv6sfu",
        "outputId": "7e28244c-0654-4080-8958-5fa0af47ffd6"
      },
      "outputs": [
        {
          "output_type": "stream",
          "name": "stdout",
          "text": [
            " * sqlite:///RealWorldData.db\n",
            "Done.\n"
          ]
        },
        {
          "output_type": "error",
          "ename": "KeyError",
          "evalue": "'DEFAULT'",
          "traceback": [
            "\u001b[0;31m---------------------------------------------------------------------------\u001b[0m",
            "\u001b[0;31mKeyError\u001b[0m                                  Traceback (most recent call last)",
            "\u001b[0;32m<ipython-input-10-af3aa08faf7e>\u001b[0m in \u001b[0;36m<cell line: 1>\u001b[0;34m()\u001b[0m\n\u001b[0;32m----> 1\u001b[0;31m \u001b[0mget_ipython\u001b[0m\u001b[0;34m(\u001b[0m\u001b[0;34m)\u001b[0m\u001b[0;34m.\u001b[0m\u001b[0mrun_line_magic\u001b[0m\u001b[0;34m(\u001b[0m\u001b[0;34m'sql'\u001b[0m\u001b[0;34m,\u001b[0m \u001b[0;34m'select \"COMMUNITY_AREA_NAME\",\"COLLEGE_ENROLLMENT\" from CHICAGO_PUBLIC_SCHOOLS_DATA order by \"COLLEGE_ENROLLMENT\" asc ;'\u001b[0m\u001b[0;34m)\u001b[0m\u001b[0;34m\u001b[0m\u001b[0;34m\u001b[0m\u001b[0m\n\u001b[0m",
            "\u001b[0;32m/usr/local/lib/python3.10/dist-packages/IPython/core/interactiveshell.py\u001b[0m in \u001b[0;36mrun_line_magic\u001b[0;34m(self, magic_name, line, _stack_depth)\u001b[0m\n\u001b[1;32m   2416\u001b[0m                 \u001b[0mkwargs\u001b[0m\u001b[0;34m[\u001b[0m\u001b[0;34m'local_ns'\u001b[0m\u001b[0;34m]\u001b[0m \u001b[0;34m=\u001b[0m \u001b[0mself\u001b[0m\u001b[0;34m.\u001b[0m\u001b[0mget_local_scope\u001b[0m\u001b[0;34m(\u001b[0m\u001b[0mstack_depth\u001b[0m\u001b[0;34m)\u001b[0m\u001b[0;34m\u001b[0m\u001b[0;34m\u001b[0m\u001b[0m\n\u001b[1;32m   2417\u001b[0m             \u001b[0;32mwith\u001b[0m \u001b[0mself\u001b[0m\u001b[0;34m.\u001b[0m\u001b[0mbuiltin_trap\u001b[0m\u001b[0;34m:\u001b[0m\u001b[0;34m\u001b[0m\u001b[0;34m\u001b[0m\u001b[0m\n\u001b[0;32m-> 2418\u001b[0;31m                 \u001b[0mresult\u001b[0m \u001b[0;34m=\u001b[0m \u001b[0mfn\u001b[0m\u001b[0;34m(\u001b[0m\u001b[0;34m*\u001b[0m\u001b[0margs\u001b[0m\u001b[0;34m,\u001b[0m \u001b[0;34m**\u001b[0m\u001b[0mkwargs\u001b[0m\u001b[0;34m)\u001b[0m\u001b[0;34m\u001b[0m\u001b[0;34m\u001b[0m\u001b[0m\n\u001b[0m\u001b[1;32m   2419\u001b[0m             \u001b[0;32mreturn\u001b[0m \u001b[0mresult\u001b[0m\u001b[0;34m\u001b[0m\u001b[0;34m\u001b[0m\u001b[0m\n\u001b[1;32m   2420\u001b[0m \u001b[0;34m\u001b[0m\u001b[0m\n",
            "\u001b[0;32m<decorator-gen-157>\u001b[0m in \u001b[0;36mexecute\u001b[0;34m(self, line, cell, local_ns)\u001b[0m\n",
            "\u001b[0;32m/usr/local/lib/python3.10/dist-packages/IPython/core/magic.py\u001b[0m in \u001b[0;36m<lambda>\u001b[0;34m(f, *a, **k)\u001b[0m\n\u001b[1;32m    185\u001b[0m     \u001b[0;31m# but it's overkill for just that one bit of state.\u001b[0m\u001b[0;34m\u001b[0m\u001b[0;34m\u001b[0m\u001b[0m\n\u001b[1;32m    186\u001b[0m     \u001b[0;32mdef\u001b[0m \u001b[0mmagic_deco\u001b[0m\u001b[0;34m(\u001b[0m\u001b[0marg\u001b[0m\u001b[0;34m)\u001b[0m\u001b[0;34m:\u001b[0m\u001b[0;34m\u001b[0m\u001b[0;34m\u001b[0m\u001b[0m\n\u001b[0;32m--> 187\u001b[0;31m         \u001b[0mcall\u001b[0m \u001b[0;34m=\u001b[0m \u001b[0;32mlambda\u001b[0m \u001b[0mf\u001b[0m\u001b[0;34m,\u001b[0m \u001b[0;34m*\u001b[0m\u001b[0ma\u001b[0m\u001b[0;34m,\u001b[0m \u001b[0;34m**\u001b[0m\u001b[0mk\u001b[0m\u001b[0;34m:\u001b[0m \u001b[0mf\u001b[0m\u001b[0;34m(\u001b[0m\u001b[0;34m*\u001b[0m\u001b[0ma\u001b[0m\u001b[0;34m,\u001b[0m \u001b[0;34m**\u001b[0m\u001b[0mk\u001b[0m\u001b[0;34m)\u001b[0m\u001b[0;34m\u001b[0m\u001b[0;34m\u001b[0m\u001b[0m\n\u001b[0m\u001b[1;32m    188\u001b[0m \u001b[0;34m\u001b[0m\u001b[0m\n\u001b[1;32m    189\u001b[0m         \u001b[0;32mif\u001b[0m \u001b[0mcallable\u001b[0m\u001b[0;34m(\u001b[0m\u001b[0marg\u001b[0m\u001b[0;34m)\u001b[0m\u001b[0;34m:\u001b[0m\u001b[0;34m\u001b[0m\u001b[0;34m\u001b[0m\u001b[0m\n",
            "\u001b[0;32m<decorator-gen-156>\u001b[0m in \u001b[0;36mexecute\u001b[0;34m(self, line, cell, local_ns)\u001b[0m\n",
            "\u001b[0;32m/usr/local/lib/python3.10/dist-packages/IPython/core/magic.py\u001b[0m in \u001b[0;36m<lambda>\u001b[0;34m(f, *a, **k)\u001b[0m\n\u001b[1;32m    185\u001b[0m     \u001b[0;31m# but it's overkill for just that one bit of state.\u001b[0m\u001b[0;34m\u001b[0m\u001b[0;34m\u001b[0m\u001b[0m\n\u001b[1;32m    186\u001b[0m     \u001b[0;32mdef\u001b[0m \u001b[0mmagic_deco\u001b[0m\u001b[0;34m(\u001b[0m\u001b[0marg\u001b[0m\u001b[0;34m)\u001b[0m\u001b[0;34m:\u001b[0m\u001b[0;34m\u001b[0m\u001b[0;34m\u001b[0m\u001b[0m\n\u001b[0;32m--> 187\u001b[0;31m         \u001b[0mcall\u001b[0m \u001b[0;34m=\u001b[0m \u001b[0;32mlambda\u001b[0m \u001b[0mf\u001b[0m\u001b[0;34m,\u001b[0m \u001b[0;34m*\u001b[0m\u001b[0ma\u001b[0m\u001b[0;34m,\u001b[0m \u001b[0;34m**\u001b[0m\u001b[0mk\u001b[0m\u001b[0;34m:\u001b[0m \u001b[0mf\u001b[0m\u001b[0;34m(\u001b[0m\u001b[0;34m*\u001b[0m\u001b[0ma\u001b[0m\u001b[0;34m,\u001b[0m \u001b[0;34m**\u001b[0m\u001b[0mk\u001b[0m\u001b[0;34m)\u001b[0m\u001b[0;34m\u001b[0m\u001b[0;34m\u001b[0m\u001b[0m\n\u001b[0m\u001b[1;32m    188\u001b[0m \u001b[0;34m\u001b[0m\u001b[0m\n\u001b[1;32m    189\u001b[0m         \u001b[0;32mif\u001b[0m \u001b[0mcallable\u001b[0m\u001b[0;34m(\u001b[0m\u001b[0marg\u001b[0m\u001b[0;34m)\u001b[0m\u001b[0;34m:\u001b[0m\u001b[0;34m\u001b[0m\u001b[0;34m\u001b[0m\u001b[0m\n",
            "\u001b[0;32m/usr/local/lib/python3.10/dist-packages/sql/magic.py\u001b[0m in \u001b[0;36mexecute\u001b[0;34m(self, line, cell, local_ns)\u001b[0m\n\u001b[1;32m    217\u001b[0m \u001b[0;34m\u001b[0m\u001b[0m\n\u001b[1;32m    218\u001b[0m         \u001b[0;32mtry\u001b[0m\u001b[0;34m:\u001b[0m\u001b[0;34m\u001b[0m\u001b[0;34m\u001b[0m\u001b[0m\n\u001b[0;32m--> 219\u001b[0;31m             \u001b[0mresult\u001b[0m \u001b[0;34m=\u001b[0m \u001b[0msql\u001b[0m\u001b[0;34m.\u001b[0m\u001b[0mrun\u001b[0m\u001b[0;34m.\u001b[0m\u001b[0mrun\u001b[0m\u001b[0;34m(\u001b[0m\u001b[0mconn\u001b[0m\u001b[0;34m,\u001b[0m \u001b[0mparsed\u001b[0m\u001b[0;34m[\u001b[0m\u001b[0;34m\"sql\"\u001b[0m\u001b[0;34m]\u001b[0m\u001b[0;34m,\u001b[0m \u001b[0mself\u001b[0m\u001b[0;34m,\u001b[0m \u001b[0muser_ns\u001b[0m\u001b[0;34m)\u001b[0m\u001b[0;34m\u001b[0m\u001b[0;34m\u001b[0m\u001b[0m\n\u001b[0m\u001b[1;32m    220\u001b[0m \u001b[0;34m\u001b[0m\u001b[0m\n\u001b[1;32m    221\u001b[0m             if (\n",
            "\u001b[0;32m/usr/local/lib/python3.10/dist-packages/sql/run.py\u001b[0m in \u001b[0;36mrun\u001b[0;34m(conn, sql, config, user_namespace)\u001b[0m\n\u001b[1;32m    372\u001b[0m             \u001b[0;32mif\u001b[0m \u001b[0mresult\u001b[0m \u001b[0;32mand\u001b[0m \u001b[0mconfig\u001b[0m\u001b[0;34m.\u001b[0m\u001b[0mfeedback\u001b[0m\u001b[0;34m:\u001b[0m\u001b[0;34m\u001b[0m\u001b[0;34m\u001b[0m\u001b[0m\n\u001b[1;32m    373\u001b[0m                 \u001b[0mprint\u001b[0m\u001b[0;34m(\u001b[0m\u001b[0minterpret_rowcount\u001b[0m\u001b[0;34m(\u001b[0m\u001b[0mresult\u001b[0m\u001b[0;34m.\u001b[0m\u001b[0mrowcount\u001b[0m\u001b[0;34m)\u001b[0m\u001b[0;34m)\u001b[0m\u001b[0;34m\u001b[0m\u001b[0;34m\u001b[0m\u001b[0m\n\u001b[0;32m--> 374\u001b[0;31m         \u001b[0mresultset\u001b[0m \u001b[0;34m=\u001b[0m \u001b[0mResultSet\u001b[0m\u001b[0;34m(\u001b[0m\u001b[0mresult\u001b[0m\u001b[0;34m,\u001b[0m \u001b[0mconfig\u001b[0m\u001b[0;34m)\u001b[0m\u001b[0;34m\u001b[0m\u001b[0;34m\u001b[0m\u001b[0m\n\u001b[0m\u001b[1;32m    375\u001b[0m         \u001b[0;32mif\u001b[0m \u001b[0mconfig\u001b[0m\u001b[0;34m.\u001b[0m\u001b[0mautopandas\u001b[0m\u001b[0;34m:\u001b[0m\u001b[0;34m\u001b[0m\u001b[0;34m\u001b[0m\u001b[0m\n\u001b[1;32m    376\u001b[0m             \u001b[0;32mreturn\u001b[0m \u001b[0mresultset\u001b[0m\u001b[0;34m.\u001b[0m\u001b[0mDataFrame\u001b[0m\u001b[0;34m(\u001b[0m\u001b[0;34m)\u001b[0m\u001b[0;34m\u001b[0m\u001b[0;34m\u001b[0m\u001b[0m\n",
            "\u001b[0;32m/usr/local/lib/python3.10/dist-packages/sql/run.py\u001b[0m in \u001b[0;36m__init__\u001b[0;34m(self, sqlaproxy, config)\u001b[0m\n\u001b[1;32m    114\u001b[0m                 \u001b[0mlist\u001b[0m\u001b[0;34m.\u001b[0m\u001b[0m__init__\u001b[0m\u001b[0;34m(\u001b[0m\u001b[0mself\u001b[0m\u001b[0;34m,\u001b[0m \u001b[0msqlaproxy\u001b[0m\u001b[0;34m.\u001b[0m\u001b[0mfetchall\u001b[0m\u001b[0;34m(\u001b[0m\u001b[0;34m)\u001b[0m\u001b[0;34m)\u001b[0m\u001b[0;34m\u001b[0m\u001b[0;34m\u001b[0m\u001b[0m\n\u001b[1;32m    115\u001b[0m             \u001b[0mself\u001b[0m\u001b[0;34m.\u001b[0m\u001b[0mfield_names\u001b[0m \u001b[0;34m=\u001b[0m \u001b[0munduplicate_field_names\u001b[0m\u001b[0;34m(\u001b[0m\u001b[0mself\u001b[0m\u001b[0;34m.\u001b[0m\u001b[0mkeys\u001b[0m\u001b[0;34m)\u001b[0m\u001b[0;34m\u001b[0m\u001b[0;34m\u001b[0m\u001b[0m\n\u001b[0;32m--> 116\u001b[0;31m             \u001b[0mself\u001b[0m\u001b[0;34m.\u001b[0m\u001b[0mpretty\u001b[0m \u001b[0;34m=\u001b[0m \u001b[0mPrettyTable\u001b[0m\u001b[0;34m(\u001b[0m\u001b[0mself\u001b[0m\u001b[0;34m.\u001b[0m\u001b[0mfield_names\u001b[0m\u001b[0;34m,\u001b[0m \u001b[0mstyle\u001b[0m\u001b[0;34m=\u001b[0m\u001b[0mprettytable\u001b[0m\u001b[0;34m.\u001b[0m\u001b[0m__dict__\u001b[0m\u001b[0;34m[\u001b[0m\u001b[0mconfig\u001b[0m\u001b[0;34m.\u001b[0m\u001b[0mstyle\u001b[0m\u001b[0;34m.\u001b[0m\u001b[0mupper\u001b[0m\u001b[0;34m(\u001b[0m\u001b[0;34m)\u001b[0m\u001b[0;34m]\u001b[0m\u001b[0;34m)\u001b[0m\u001b[0;34m\u001b[0m\u001b[0;34m\u001b[0m\u001b[0m\n\u001b[0m\u001b[1;32m    117\u001b[0m         \u001b[0;32melse\u001b[0m\u001b[0;34m:\u001b[0m\u001b[0;34m\u001b[0m\u001b[0;34m\u001b[0m\u001b[0m\n\u001b[1;32m    118\u001b[0m             \u001b[0mlist\u001b[0m\u001b[0;34m.\u001b[0m\u001b[0m__init__\u001b[0m\u001b[0;34m(\u001b[0m\u001b[0mself\u001b[0m\u001b[0;34m,\u001b[0m \u001b[0;34m[\u001b[0m\u001b[0;34m]\u001b[0m\u001b[0;34m)\u001b[0m\u001b[0;34m\u001b[0m\u001b[0;34m\u001b[0m\u001b[0m\n",
            "\u001b[0;31mKeyError\u001b[0m: 'DEFAULT'"
          ]
        }
      ],
      "source": [
        "%sql select \"COMMUNITY_AREA_NAME\",\"COLLEGE_ENROLLMENT\" from CHICAGO_PUBLIC_SCHOOLS_DATA order by \"COLLEGE_ENROLLMENT\" asc ;"
      ]
    },
    {
      "cell_type": "markdown",
      "metadata": {
        "id": "gbXAHK1L6sfu"
      },
      "source": [
        "### Problem 10\n",
        "\n",
        "##### List 5 schools with lowest safety score.\n",
        "##### Safety Score가 가장 낮은 상위 5개 학교를 나열하라."
      ]
    },
    {
      "cell_type": "code",
      "execution_count": null,
      "metadata": {
        "tags": [],
        "colab": {
          "base_uri": "https://localhost:8080/",
          "height": 184
        },
        "id": "p_ASGHj06sfu",
        "outputId": "28bd9c39-9bdb-4321-da5a-5a30f2e29595"
      },
      "outputs": [
        {
          "output_type": "stream",
          "name": "stdout",
          "text": [
            " * sqlite:///RealWorldData.db\n",
            "Done.\n"
          ]
        },
        {
          "output_type": "execute_result",
          "data": {
            "text/plain": [
              "[('Edmond Burke Elementary School', 1.0),\n",
              " (\"Luke O'Toole Elementary School\", 5.0),\n",
              " ('George W Tilton Elementary School', 6.0),\n",
              " ('Foster Park Elementary School', 11.0),\n",
              " ('Emil G Hirsch Metropolitan High School', 13.0)]"
            ],
            "text/html": [
              "<table>\n",
              "    <thead>\n",
              "        <tr>\n",
              "            <th>NAME_OF_SCHOOL</th>\n",
              "            <th>SAFETY_SCORE</th>\n",
              "        </tr>\n",
              "    </thead>\n",
              "    <tbody>\n",
              "        <tr>\n",
              "            <td>Edmond Burke Elementary School</td>\n",
              "            <td>1.0</td>\n",
              "        </tr>\n",
              "        <tr>\n",
              "            <td>Luke O&#x27;Toole Elementary School</td>\n",
              "            <td>5.0</td>\n",
              "        </tr>\n",
              "        <tr>\n",
              "            <td>George W Tilton Elementary School</td>\n",
              "            <td>6.0</td>\n",
              "        </tr>\n",
              "        <tr>\n",
              "            <td>Foster Park Elementary School</td>\n",
              "            <td>11.0</td>\n",
              "        </tr>\n",
              "        <tr>\n",
              "            <td>Emil G Hirsch Metropolitan High School</td>\n",
              "            <td>13.0</td>\n",
              "        </tr>\n",
              "    </tbody>\n",
              "</table>"
            ]
          },
          "metadata": {},
          "execution_count": 39
        }
      ],
      "source": []
    },
    {
      "cell_type": "markdown",
      "metadata": {
        "id": "a4Kj0bbm6sfu"
      },
      "source": [
        "Double-click **here** for hint.\n",
        "\n",
        "<!-- Solution SQLite:\n",
        "safety_score 가 'None'이 아닐 조건을 추가해야 해요.\n",
        "where safety_score !='None'\n",
        "\n",
        "-->\n",
        "\n",
        "\n"
      ]
    },
    {
      "cell_type": "markdown",
      "metadata": {
        "id": "XspKPLFG6sfv"
      },
      "source": [
        "## 요약\n",
        "\n",
        "##### 이 실습에서 SQL과 Python을 사용하여 실제 데이터 세트를 다루는 방법을 배웠다. 공백이나 특수 문자가 포함된 열 이름 및 혼합 대소문자로 구성된 열 이름을 쿼리하는 방법을 배웠다. 또한, 데이터베이스 내장 함수를 사용하고, 결과 집합을 정렬, 제한, 순서 지정하는 방법을 연습했으며, 서브쿼리를 사용하고 여러 테이블을 다루는 방법도 배웠다.\n"
      ]
    },
    {
      "cell_type": "code",
      "source": [],
      "metadata": {
        "id": "l_Jw7gfaMnXw"
      },
      "execution_count": null,
      "outputs": []
    }
  ],
  "metadata": {
    "kernelspec": {
      "display_name": "Python",
      "language": "python",
      "name": "conda-env-python-py"
    },
    "language_info": {
      "codemirror_mode": {
        "name": "ipython",
        "version": 3
      },
      "file_extension": ".py",
      "mimetype": "text/x-python",
      "name": "python",
      "nbconvert_exporter": "python",
      "pygments_lexer": "ipython3",
      "version": "3.7.12"
    },
    "prev_pub_hash": "36d6eaffde8051aeb774da74bebd23386d31226cd2584a668c4b0525141f185b",
    "colab": {
      "provenance": [],
      "include_colab_link": true
    }
  },
  "nbformat": 4,
  "nbformat_minor": 0
}